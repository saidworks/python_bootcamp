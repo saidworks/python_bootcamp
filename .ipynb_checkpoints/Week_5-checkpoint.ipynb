{
 "cells": [
  {
   "cell_type": "markdown",
   "metadata": {},
   "source": [
    "#functions"
   ]
  },
  {
   "cell_type": "code",
   "execution_count": 2,
   "metadata": {},
   "outputs": [
    {
     "name": "stdout",
     "output_type": "stream",
     "text": [
      "the sum of elements in the list 903\n"
     ]
    }
   ],
   "source": [
    "def sum_numbers(lst):\n",
    "    sum=0\n",
    "    for i in lst:\n",
    "        sum += i\n",
    "    return print(\"the sum of elements in the list {}\".format(sum))\n",
    "sum_numbers([12,25,747,54,65])\n"
   ]
  },
  {
   "cell_type": "code",
   "execution_count": 4,
   "metadata": {},
   "outputs": [
    {
     "name": "stdout",
     "output_type": "stream",
     "text": [
      "Area: 12.56\n"
     ]
    }
   ],
   "source": [
    "# setting default parameter values\n",
    "def calcArea(r, pi=3.14):\n",
    "    area = pi*(r**2)\n",
    "    print( \"Area: {}\".format(area))\n",
    "calcArea(2)     # assuming radius is the value of 2"
   ]
  },
  {
   "cell_type": "code",
   "execution_count": 6,
   "metadata": {},
   "outputs": [
    {
     "name": "stdout",
     "output_type": "stream",
     "text": [
      "John Smith\n",
      "John Paul Smith\n"
     ]
    }
   ],
   "source": [
    "# setting default parameter values\n",
    "def printName(first, last, middle=\"\"):\n",
    "    if middle:\n",
    "            print( \"{} {} {}\".format(first, middle, last) )\n",
    "    else:\n",
    "            print( \"{} {}\".format(first, last) )\n",
    "printName(\"John\", \"Smith\")\n",
    "printName(\"John\", \"Smith\", \"Paul\")     # will output with middle name"
   ]
  },
  {
   "cell_type": "code",
   "execution_count": 3,
   "metadata": {},
   "outputs": [
    {
     "name": "stdout",
     "output_type": "stream",
     "text": [
      "<class 'tuple'>\n",
      "(5, True, 'Jess', 123)\n",
      "5\n",
      "True\n",
      "Jess\n",
      "123\n"
     ]
    }
   ],
   "source": [
    "# using args parameter to take in a tuple of arbitrary values\n",
    "def outputData(name,*args):\n",
    "    print(type(args))\n",
    "    print(args)\n",
    "    for arg in args:\n",
    "        print(arg)\n",
    "outputData(\"John Smith\",5, True, \"Jess\",123)"
   ]
  },
  {
   "cell_type": "code",
   "execution_count": 5,
   "metadata": {},
   "outputs": [
    {
     "name": "stdout",
     "output_type": "stream",
     "text": [
      "<class 'dict'>\n",
      "{'name': 'John Smith', 'num': 5, 'b': True}\n",
      "John Smith\n",
      "5\n"
     ]
    }
   ],
   "source": [
    "# using kwargs parameter to take in a dictionary of arbitrary values\n",
    "def outputData(**kwargs):\n",
    "    print( type(kwargs))\n",
    "    print(kwargs)\n",
    "    print( kwargs[ \"name\" ] )\n",
    "    print( kwargs[ \"num\" ] )\n",
    "outputData(name = \"John Smith\", num = 5, b = True)"
   ]
  },
  {
   "cell_type": "code",
   "execution_count": 2,
   "metadata": {},
   "outputs": [
    {
     "name": "stdout",
     "output_type": "stream",
     "text": [
      "True\n",
      "List: []\n"
     ]
    }
   ],
   "source": [
    "# shorthand syntax using a ternary operator\n",
    "def searchList(aList, el):\n",
    "    return True if el in aList else False\n",
    "result = searchList( [ \"one\", 2, \"three\" ], 2)    # result = True\n",
    "print(result)\n",
    "# Defining a list\n",
    "list = [{1, 2}, ('a'), ['1.1', '2.2']]\n",
    "\n",
    "# clearing the list\n",
    "list.clear()\n",
    "\n",
    "print('List:', list)"
   ]
  },
  {
   "cell_type": "code",
   "execution_count": 8,
   "metadata": {},
   "outputs": [
    {
     "ename": "UnboundLocalError",
     "evalue": "local variable 'number' referenced before assignment",
     "output_type": "error",
     "traceback": [
      "\u001b[1;31m---------------------------------------------------------------------------\u001b[0m",
      "\u001b[1;31mUnboundLocalError\u001b[0m                         Traceback (most recent call last)",
      "\u001b[1;32m<ipython-input-8-70a18ea22017>\u001b[0m in \u001b[0;36m<module>\u001b[1;34m\u001b[0m\n\u001b[0;32m      3\u001b[0m \u001b[1;32mdef\u001b[0m \u001b[0mscopeTest\u001b[0m\u001b[1;33m(\u001b[0m\u001b[1;33m)\u001b[0m\u001b[1;33m:\u001b[0m\u001b[1;33m\u001b[0m\u001b[1;33m\u001b[0m\u001b[0m\n\u001b[0;32m      4\u001b[0m     \u001b[0mnumber\u001b[0m \u001b[1;33m+=\u001b[0m \u001b[1;36m1\u001b[0m      \u001b[1;31m# not accessible due to function level scope\u001b[0m\u001b[1;33m\u001b[0m\u001b[1;33m\u001b[0m\u001b[0m\n\u001b[1;32m----> 5\u001b[1;33m \u001b[0mscopeTest\u001b[0m\u001b[1;33m(\u001b[0m\u001b[1;33m)\u001b[0m\u001b[1;33m\u001b[0m\u001b[1;33m\u001b[0m\u001b[0m\n\u001b[0m",
      "\u001b[1;32m<ipython-input-8-70a18ea22017>\u001b[0m in \u001b[0;36mscopeTest\u001b[1;34m()\u001b[0m\n\u001b[0;32m      2\u001b[0m \u001b[0mnumber\u001b[0m \u001b[1;33m=\u001b[0m \u001b[1;36m5\u001b[0m\u001b[1;33m\u001b[0m\u001b[1;33m\u001b[0m\u001b[0m\n\u001b[0;32m      3\u001b[0m \u001b[1;32mdef\u001b[0m \u001b[0mscopeTest\u001b[0m\u001b[1;33m(\u001b[0m\u001b[1;33m)\u001b[0m\u001b[1;33m:\u001b[0m\u001b[1;33m\u001b[0m\u001b[1;33m\u001b[0m\u001b[0m\n\u001b[1;32m----> 4\u001b[1;33m     \u001b[0mnumber\u001b[0m \u001b[1;33m+=\u001b[0m \u001b[1;36m1\u001b[0m      \u001b[1;31m# not accessible due to function level scope\u001b[0m\u001b[1;33m\u001b[0m\u001b[1;33m\u001b[0m\u001b[0m\n\u001b[0m\u001b[0;32m      5\u001b[0m \u001b[0mscopeTest\u001b[0m\u001b[1;33m(\u001b[0m\u001b[1;33m)\u001b[0m\u001b[1;33m\u001b[0m\u001b[1;33m\u001b[0m\u001b[0m\n",
      "\u001b[1;31mUnboundLocalError\u001b[0m: local variable 'number' referenced before assignment"
     ]
    }
   ],
   "source": [
    "# where global variables can be accessed\n",
    "number = 5\n",
    "def scopeTest():\n",
    "    number += 1      # not accessible due to function level scope\n",
    "scopeTest()"
   ]
  },
  {
   "cell_type": "markdown",
   "metadata": {},
   "source": [
    "#Friday Project: Creating a Shopping Cart."
   ]
  },
  {
   "cell_type": "code",
   "execution_count": 3,
   "metadata": {},
   "outputs": [
    {
     "name": "stdout",
     "output_type": "stream",
     "text": [
      "Here is your cart\n",
      "- Flour\n",
      "- Soap\n"
     ]
    }
   ],
   "source": [
    "# import necessary functions\n",
    "from IPython.display import clear_output\n",
    "# global list variable\n",
    "cart = []\n",
    "##Actions : add,remove,,clear,show,quit \n",
    "#add items\n",
    "def addItem(item):\n",
    "    clear_output()\n",
    "    cart.append(item)\n",
    "    print(\"{} has been added.\".format(item))\n",
    "#remove items from the list        \n",
    "def removeItem(item):\n",
    "    clear_output()\n",
    "    try:\n",
    "        cart.remove(item)\n",
    "        print(\"{} has been removed\".format(item))\n",
    "    except:\n",
    "        print(\"Sorry we could not remove that item, please try again\")\n",
    "#create a function to show items in the cart any time\n",
    "def showCart():\n",
    "    clear_output()\n",
    "    if cart:\n",
    "        print(\"Here is your cart\")\n",
    "        for item in cart:\n",
    "            print(\"- {}\".format(item))\n",
    "    else:\n",
    "        print(\"your cart is empty.\")\n",
    "        \n",
    "def clearCart():\n",
    "    clear_output()\n",
    "    cart.clear()\n",
    "    print(\"Your cart is empty\")\n",
    "    \n",
    "#Perform the action\n",
    "# create main function that loops until the user quits\n",
    "def main( ):\n",
    "    done = False\n",
    "    while not done:\n",
    "        ans = input(\"quit/add/remove/show/clear: \").lower( )\n",
    "   # base case\n",
    "        if ans == \"quit\":\n",
    "                   print(\"Thanks for using our program.\")\n",
    "                   showCart( )\n",
    "                   done = True    \n",
    "        elif ans == \"add\":\n",
    "            item = input(\"What would you like to add? \").title( )\n",
    "            addItem(item)\n",
    "        elif ans == \"remove\":\n",
    "            showCart( )\n",
    "            item =  input(\"What item would you like to remove? \").title()\n",
    "            removeItem(item)\n",
    "        elif ans == \"show\":\n",
    "            showCart( )\n",
    "        elif ans == \"clear\":\n",
    "            clearCart()\n",
    "        else:\n",
    "            print(\"Sorry that was not an option.\")\n",
    "main()    # run the program\n",
    "        \n",
    "\n"
   ]
  },
  {
   "cell_type": "code",
   "execution_count": 11,
   "metadata": {},
   "outputs": [
    {
     "data": {
      "text/plain": [
       "4"
      ]
     },
     "execution_count": 11,
     "metadata": {},
     "output_type": "execute_result"
    }
   ],
   "source": [
    "#Data : define variables\n",
    "destinations=['Paris,France','Shanghai, China',\"Los Angeles, USA\",'São Paulo, Brazil','Cairo, Egypt']\n",
    "test_traveler=['Erin Wilkes', 'Shanghai, China', ['historical site', 'art']]\n",
    "#functions \n",
    "def get_destination_index(destination):\n",
    "  destination_index=0\n",
    "  for i in range(len(destinations)):\n",
    "    if destinations[i]==destination:\n",
    "      destination_index=i\n",
    "      return destination_index\n",
    "    else:\n",
    "        continue\n",
    "get_destination_index('Cairo, Egypt') \n"
   ]
  },
  {
   "cell_type": "code",
   "execution_count": 3,
   "metadata": {},
   "outputs": [
    {
     "name": "stdout",
     "output_type": "stream",
     "text": [
      "range(1, 13)\n",
      "[369, 687, 431, 540, 663, 184, 272, 447, 188, 337, 103, 348]\n"
     ]
    },
    {
     "data": {
      "image/png": "[encoded data removed]",
      "text/plain": [
       "<Figure size 432x288 with 1 Axes>"
      ]
     },
     "metadata": {
      "needs_background": "light"
     },
     "output_type": "display_data"
    }
   ],
   "source": [
    "from matplotlib import pyplot as plt\n",
    "import random\n",
    "# Add your code below:\n",
    "numbers_a=range(1,13)\n",
    "numbers_b=[random.randint(1,1000) for i in range(12)]\n",
    "print(numbers_a)\n",
    "print(numbers_b)\n",
    "plt.plot(numbers_a,numbers_b)\n",
    "plt.show()"
   ]
  },
  {
   "cell_type": "markdown",
   "metadata": {},
   "source": [
    "#Datetime_module_codecademy"
   ]
  },
  {
   "cell_type": "code",
   "execution_count": 34,
   "metadata": {},
   "outputs": [
    {
     "name": "stdout",
     "output_type": "stream",
     "text": [
      "1988-04-20 11:12:12\n",
      "1988\n",
      "2\n",
      "2020-04-26 14:05:16.292566\n",
      "365 days, 0:00:00\n",
      "846 days, 14:05:16.292566\n",
      "4\n",
      "2020 26, Apr\n"
     ]
    }
   ],
   "source": [
    "#Importing the \"datetime\" module\n",
    "from datetime import datetime\n",
    "#Creating a date using year, month, day as arguments.\n",
    "birthday=datetime(1988,4,20,11,12,12)\n",
    "print(birthday)\n",
    "print(birthday.year)\n",
    "print(birthday.weekday())\n",
    "#Creating a date using datetime.now()\n",
    "now=datetime.now()\n",
    "print(now)\n",
    "print(datetime(2018,1,1)-datetime(2017,1,1))\n",
    "print(datetime.now()-datetime(2018,1,1))\n",
    "#Parsing a date using strptime \n",
    "parsed_date=datetime.strptime('Apr 15, 2020','%b %d, %Y')\n",
    "print(parsed_date.month)\n",
    "#Rendering a date as a string using strftime\n",
    "date_string=datetime.strftime(datetime.now(),'%Y %d, %b')\n",
    "print(date_string)"
   ]
  },
  {
   "cell_type": "code",
   "execution_count": null,
   "metadata": {},
   "outputs": [],
   "source": []
  },
  {
   "cell_type": "code",
   "execution_count": null,
   "metadata": {},
   "outputs": [],
   "source": []
  }
 ],
 "metadata": {
  "kernelspec": {
   "display_name": "Python 3",
   "language": "python",
   "name": "python3"
  },
  "language_info": {
   "codemirror_mode": {
    "name": "ipython",
    "version": 3
   },
   "file_extension": ".py",
   "mimetype": "text/x-python",
   "name": "python",
   "nbconvert_exporter": "python",
   "pygments_lexer": "ipython3",
   "version": "3.7.6"
  }
 },
 "nbformat": 4,
 "nbformat_minor": 4
}
