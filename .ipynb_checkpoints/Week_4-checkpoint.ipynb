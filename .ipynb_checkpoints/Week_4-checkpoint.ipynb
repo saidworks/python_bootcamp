{
 "cells": [
  {
   "cell_type": "markdown",
   "metadata": {},
   "source": [
    "Lists and loops"
   ]
  },
  {
   "cell_type": "code",
   "execution_count": 1,
   "metadata": {},
   "outputs": [
    {
     "name": "stdout",
     "output_type": "stream",
     "text": [
      "[14, 15, 'Said', 14, 58, 56]\n",
      "a:[14, 15, 'Said'] and b:[14, 58, 56]\n",
      "a's location is 2703475511880, b's location is 2703475473480.\n",
      "a's location is 2703475511880, b's location is 2703475473480.\n",
      "[14, 58, 56]\n",
      "first letter of each one: S,M,M,F\n"
     ]
    }
   ],
   "source": [
    "a=[14,15,\"Said\"]\n",
    "b=[14,58,56]\n",
    "b_copy=b[:]\n",
    "c=a+b\n",
    "print(c)\n",
    "print(\"a:{} and b:{}\".format(a,b))\n",
    "print(\"a's location is {}, b's location is {}.\".format(id(a),id(b)))\n",
    "a[0]=165\n",
    "print(\"a's location is {}, b's location is {}.\".format(id(a),id(b)))\n",
    "print(b_copy)\n",
    "family=[\"Said\",\"Maureen\",\"Mina\",\"Fatima\"]\n",
    "print(\"first letter of each one: {},{},{},{}\".format(family[0][0],family[1][0],family[2][0],family[3][0]))"
   ]
  },
  {
   "cell_type": "code",
   "execution_count": 2,
   "metadata": {},
   "outputs": [
    {
     "name": "stdout",
     "output_type": "stream",
     "text": [
      "The value is 0\n",
      "letter S\n",
      "letter a\n",
      "letter i\n",
      "letter d\n",
      "The value is 1\n",
      "letter S\n",
      "letter a\n",
      "letter i\n",
      "letter d\n",
      "The value is 2\n",
      "letter S\n",
      "letter a\n",
      "letter i\n",
      "letter d\n",
      "The value is 3\n",
      "letter S\n",
      "letter a\n",
      "letter i\n",
      "letter d\n"
     ]
    }
   ],
   "source": [
    "name=\"Said\"\n",
    "for num in range(5):\n",
    "    if num==4:\n",
    "        break\n",
    "    print(\"The value is {}\".format(num))\n",
    "    for letter in name:\n",
    "        print(\"letter {}\".format(letter))\n",
    "        for i in range(2):\n",
    "            #todo write a loop here Said\n",
    "            pass"
   ]
  },
  {
   "cell_type": "code",
   "execution_count": null,
   "metadata": {},
   "outputs": [],
   "source": []
  },
  {
   "cell_type": "code",
   "execution_count": 3,
   "metadata": {
    "scrolled": true
   },
   "outputs": [
    {
     "name": "stdout",
     "output_type": "stream",
     "text": [
      "write a wordSaid\n"
     ]
    },
    {
     "ename": "AttributeError",
     "evalue": "'list' object has no attribute 'split'",
     "output_type": "error",
     "traceback": [
      "\u001b[1;31m---------------------------------------------------------------------------\u001b[0m",
      "\u001b[1;31mAttributeError\u001b[0m                            Traceback (most recent call last)",
      "\u001b[1;32m<ipython-input-3-7932a4559364>\u001b[0m in \u001b[0;36m<module>\u001b[1;34m\u001b[0m\n\u001b[0;32m      4\u001b[0m     \u001b[1;32mif\u001b[0m \u001b[0mletter\u001b[0m \u001b[1;32min\u001b[0m \u001b[1;33m[\u001b[0m\u001b[1;34m'a'\u001b[0m\u001b[1;33m,\u001b[0m\u001b[1;34m'e'\u001b[0m\u001b[1;33m]\u001b[0m\u001b[1;33m:\u001b[0m\u001b[1;33m\u001b[0m\u001b[1;33m\u001b[0m\u001b[0m\n\u001b[0;32m      5\u001b[0m         \u001b[0mlist\u001b[0m\u001b[1;33m.\u001b[0m\u001b[0mappend\u001b[0m\u001b[1;33m(\u001b[0m\u001b[0mletter\u001b[0m\u001b[1;33m)\u001b[0m\u001b[1;33m\u001b[0m\u001b[1;33m\u001b[0m\u001b[0m\n\u001b[1;32m----> 6\u001b[1;33m     \u001b[0mlist\u001b[0m\u001b[1;33m.\u001b[0m\u001b[0msplit\u001b[0m\u001b[1;33m\u001b[0m\u001b[1;33m\u001b[0m\u001b[0m\n\u001b[0m",
      "\u001b[1;31mAttributeError\u001b[0m: 'list' object has no attribute 'split'"
     ]
    }
   ],
   "source": [
    "string=input(\"write a word\")\n",
    "for letter in string:\n",
    "    list=[]\n",
    "    if letter in ['a','e']:\n",
    "        list.append(letter)\n",
    "    list.split"
   ]
  },
  {
   "cell_type": "markdown",
   "metadata": {},
   "source": [
    "#While_loop"
   ]
  },
  {
   "cell_type": "code",
   "execution_count": 4,
   "metadata": {},
   "outputs": [
    {
     "name": "stdout",
     "output_type": "stream",
     "text": [
      "You are still healthy! 10!\n",
      "You are still healthy! 9!\n",
      "You are still healthy! 8!\n",
      "You are still healthy! 7!\n",
      "You are still healthy! 6!\n",
      "You are still healthy! 5!\n",
      "You are still healthy! 4!\n",
      "You are still healthy! 3!\n",
      "You are still healthy! 2!\n",
      "You are still healthy! 1!\n",
      "You are still healthy! 0!\n",
      "0\n",
      "9\n",
      "18\n",
      "27\n",
      "36\n",
      "45\n",
      "54\n",
      "63\n",
      "72\n",
      "81\n"
     ]
    }
   ],
   "source": [
    "health=10\n",
    "while health>=0:\n",
    "    print(\"You are still healthy! {}!\".format(health))\n",
    "    health-=1\n",
    "for i in range(10):\n",
    "    for j in range(10):\n",
    "        result=i*j\n",
    "    print(result)"
   ]
  },
  {
   "cell_type": "code",
   "execution_count": null,
   "metadata": {},
   "outputs": [],
   "source": [
    "type_in=\"\"\n",
    "while type_in!=\"quit\":\n",
    "    type_in=input(\"Write down your name (when you are done type quit)\")\n",
    "\n"
   ]
  },
  {
   "cell_type": "code",
   "execution_count": null,
   "metadata": {},
   "outputs": [],
   "source": [
    "for i in range(5):\n",
    "    if i>=3:\n",
    "        print('game over')\n",
    "        break\n",
    "    print(i)"
   ]
  },
  {
   "cell_type": "code",
   "execution_count": 21,
   "metadata": {},
   "outputs": [
    {
     "name": "stdout",
     "output_type": "stream",
     "text": [
      "[1, 15, 356, 155, 47, 54, 65, 85]\n",
      "This is [1, 15, 47, 54, 65, 85, 155, 356]\n",
      "[1, 15, 356, 155, 47]\n",
      "[155, 47, 54, 65]\n",
      "[356, 155, 47, 54, 65, 85]\n",
      "[1, 15, 356, 155, 47, 54, 65]\n",
      "[85, 65, 54, 47, 155, 356, 15, 1]\n",
      "This are 1 356 778\n",
      "[1, 15, 'the best', 356, 155, 47, 54, 65, 85]\n",
      "[15, 'the best', 356, 155, 47, 54, 65]\n"
     ]
    }
   ],
   "source": [
    "List=[1,15,356,155,47,54,65,85]\n",
    "List.sort\n",
    "print(List)\n",
    "print(\"This is {}\".format(sorted(List)))\n",
    "print(List[0:5:1])\n",
    "print(List[-5:-1])\n",
    "print(List[2::])\n",
    "print(List[:-1:1])\n",
    "print(List[::-1])\n",
    "print(\"This are {} {} {}\".format(min(List),max(List),sum(List)))\n",
    "List.insert(2,\"the best\")\n",
    "print(List)\n",
    "List.pop(0)\n",
    "List.pop()\n",
    "print(List)\n",
    "\n",
    "\n"
   ]
  },
  {
   "cell_type": "code",
   "execution_count": 6,
   "metadata": {},
   "outputs": [
    {
     "name": "stdout",
     "output_type": "stream",
     "text": [
      "['Football', 'Handball']\n"
     ]
    }
   ],
   "source": [
    "sports=[\"Football\",\"Handball\",\"Tennis\"]\n",
    "try:\n",
    "    sports.remove(\"Tennis\")\n",
    "except: \n",
    "    print(\"The item does not exist on the list\")\n",
    "print(sports)"
   ]
  },
  {
   "cell_type": "code",
   "execution_count": 22,
   "metadata": {},
   "outputs": [
    {
     "name": "stdout",
     "output_type": "stream",
     "text": [
      "Write your name:Said\n",
      "access granted!\n"
     ]
    }
   ],
   "source": [
    "names=[\"Maureen\",\"Said\"]\n",
    "entry=input(\"Write your name:\")\n",
    "if entry in names:\n",
    "    print(\"access granted!\")\n",
    "else:\n",
    "    print(\"sorry you do not have right to access this page\")"
   ]
  },
  {
   "cell_type": "code",
   "execution_count": 23,
   "metadata": {},
   "outputs": [
    {
     "name": "stdout",
     "output_type": "stream",
     "text": [
      "Write your name:Said\n",
      "You can touch mc!\n"
     ]
    }
   ],
   "source": [
    "names=[\"Said\"]\n",
    "entry=input(\"Write your name:\")\n",
    "if entry in names:\n",
    "    print(\"You can touch mc!\")\n",
    "else:\n",
    "    print(\"sorry you do not have right to touch Said's private property\")"
   ]
  },
  {
   "cell_type": "code",
   "execution_count": null,
   "metadata": {},
   "outputs": [],
   "source": [
    "names=[\"Bob\",\"Jack\",\"Bob\",\"Alpha\",\"Astra\",\"Bob\"]\n",
    "n=names.count(\"Bob\")\n",
    "while n>1:\n",
    "    names.remove(\"Bob\")\n",
    "    n-=1\n",
    "print(names)"
   ]
  },
  {
   "cell_type": "code",
   "execution_count": null,
   "metadata": {},
   "outputs": [],
   "source": [
    "entry=input(\"type something.. (you can quit any time you want)\")\n",
    "while entry!=\"quit\":\n",
    "    print(entry)\n",
    "    entry=input(\"type something.. (you can quit any time you want)\")"
   ]
  },
  {
   "cell_type": "code",
   "execution_count": null,
   "metadata": {},
   "outputs": [],
   "source": [
    "names=[\"Bob\",\"Jack\",\"Bob\",\"Alpha\",\"Astra\",\"Bob\"]\n",
    "n=names.count(\"Bob\")\n",
    "while n>1:\n",
    "    names.remove(\"Bob\")\n",
    "    n-=1\n",
    "print(names)\n",
    "\n",
    "entry=0\n",
    "while entry!=\"quit\":\n",
    "    entry=input(\"type something.. (you can quit any time you want)\")\n",
    "    print(entry)"
   ]
  },
  {
   "cell_type": "code",
   "execution_count": 8,
   "metadata": {},
   "outputs": [
    {
     "ename": "TypeError",
     "evalue": "choice() got an unexpected keyword argument 'k'",
     "output_type": "error",
     "traceback": [
      "\u001b[1;31m---------------------------------------------------------------------------\u001b[0m",
      "\u001b[1;31mTypeError\u001b[0m                                 Traceback (most recent call last)",
      "\u001b[1;32m<ipython-input-8-72453039b696>\u001b[0m in \u001b[0;36m<module>\u001b[1;34m\u001b[0m\n\u001b[0;32m      6\u001b[0m             \u001b[0mboard\u001b[0m\u001b[1;33m[\u001b[0m\u001b[0mi\u001b[0m\u001b[1;33m]\u001b[0m\u001b[1;33m[\u001b[0m\u001b[0mj\u001b[0m\u001b[1;33m]\u001b[0m\u001b[1;33m=\u001b[0m\u001b[0mchoice\u001b[0m\u001b[1;33m(\u001b[0m\u001b[1;33m[\u001b[0m\u001b[1;36m0\u001b[0m\u001b[1;33m,\u001b[0m\u001b[1;36m1\u001b[0m\u001b[1;33m,\u001b[0m\u001b[1;36m2\u001b[0m\u001b[1;33m,\u001b[0m\u001b[1;36m4\u001b[0m\u001b[1;33m]\u001b[0m\u001b[1;33m,\u001b[0m\u001b[0mk\u001b[0m\u001b[1;33m=\u001b[0m\u001b[1;36m4\u001b[0m\u001b[1;33m)\u001b[0m\u001b[1;33m\u001b[0m\u001b[1;33m\u001b[0m\u001b[0m\n\u001b[0;32m      7\u001b[0m \u001b[1;33m\u001b[0m\u001b[0m\n\u001b[1;32m----> 8\u001b[1;33m \u001b[0mprint\u001b[0m\u001b[1;33m(\u001b[0m\u001b[0mInitializeGrid\u001b[0m\u001b[1;33m(\u001b[0m\u001b[1;33m)\u001b[0m\u001b[1;33m)\u001b[0m\u001b[1;33m\u001b[0m\u001b[1;33m\u001b[0m\u001b[0m\n\u001b[0m",
      "\u001b[1;32m<ipython-input-8-72453039b696>\u001b[0m in \u001b[0;36mInitializeGrid\u001b[1;34m(board)\u001b[0m\n\u001b[0;32m      4\u001b[0m     \u001b[1;32mfor\u001b[0m \u001b[0mi\u001b[0m \u001b[1;32min\u001b[0m \u001b[0mrange\u001b[0m\u001b[1;33m(\u001b[0m\u001b[1;36m8\u001b[0m\u001b[1;33m)\u001b[0m\u001b[1;33m:\u001b[0m\u001b[1;33m\u001b[0m\u001b[1;33m\u001b[0m\u001b[0m\n\u001b[0;32m      5\u001b[0m         \u001b[1;32mfor\u001b[0m \u001b[0mj\u001b[0m \u001b[1;32min\u001b[0m \u001b[0mrange\u001b[0m\u001b[1;33m(\u001b[0m\u001b[1;36m8\u001b[0m\u001b[1;33m)\u001b[0m\u001b[1;33m:\u001b[0m\u001b[1;33m\u001b[0m\u001b[1;33m\u001b[0m\u001b[0m\n\u001b[1;32m----> 6\u001b[1;33m             \u001b[0mboard\u001b[0m\u001b[1;33m[\u001b[0m\u001b[0mi\u001b[0m\u001b[1;33m]\u001b[0m\u001b[1;33m[\u001b[0m\u001b[0mj\u001b[0m\u001b[1;33m]\u001b[0m\u001b[1;33m=\u001b[0m\u001b[0mchoice\u001b[0m\u001b[1;33m(\u001b[0m\u001b[1;33m[\u001b[0m\u001b[1;36m0\u001b[0m\u001b[1;33m,\u001b[0m\u001b[1;36m1\u001b[0m\u001b[1;33m,\u001b[0m\u001b[1;36m2\u001b[0m\u001b[1;33m,\u001b[0m\u001b[1;36m4\u001b[0m\u001b[1;33m]\u001b[0m\u001b[1;33m,\u001b[0m\u001b[0mk\u001b[0m\u001b[1;33m=\u001b[0m\u001b[1;36m4\u001b[0m\u001b[1;33m)\u001b[0m\u001b[1;33m\u001b[0m\u001b[1;33m\u001b[0m\u001b[0m\n\u001b[0m\u001b[0;32m      7\u001b[0m \u001b[1;33m\u001b[0m\u001b[0m\n\u001b[0;32m      8\u001b[0m \u001b[0mprint\u001b[0m\u001b[1;33m(\u001b[0m\u001b[0mInitializeGrid\u001b[0m\u001b[1;33m(\u001b[0m\u001b[1;33m)\u001b[0m\u001b[1;33m)\u001b[0m\u001b[1;33m\u001b[0m\u001b[1;33m\u001b[0m\u001b[0m\n",
      "\u001b[1;31mTypeError\u001b[0m: choice() got an unexpected keyword argument 'k'"
     ]
    }
   ],
   "source": [
    "from random import *\n",
    "def InitializeGrid(board=[]):\n",
    "    #Initialize grid by random value\n",
    "    for i in range(8):\n",
    "        for j in range(8):\n",
    "            board[i][j]=choice([0,1,2,4],k=4)\n",
    "\n",
    "print(InitializeGrid())"
   ]
  },
  {
   "cell_type": "code",
   "execution_count": null,
   "metadata": {},
   "outputs": [],
   "source": []
  }
 ],
 "metadata": {
  "kernelspec": {
   "display_name": "Python 3",
   "language": "python",
   "name": "python3"
  },
  "language_info": {
   "codemirror_mode": {
    "name": "ipython",
    "version": 3
   },
   "file_extension": ".py",
   "mimetype": "text/x-python",
   "name": "python",
   "nbconvert_exporter": "python",
   "pygments_lexer": "ipython3",
   "version": "3.7.6"
  }
 },
 "nbformat": 4,
 "nbformat_minor": 4
}
