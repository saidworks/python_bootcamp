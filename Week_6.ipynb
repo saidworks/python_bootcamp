{
 "cells": [
  {
   "cell_type": "markdown",
   "metadata": {},
   "source": [
    "#Dictionaries"
   ]
  },
  {
   "cell_type": "code",
   "execution_count": 18,
   "metadata": {
    "scrolled": true
   },
   "outputs": [
    {
     "name": "stdout",
     "output_type": "stream",
     "text": [
      "{'name': 'John', 'age': 26}\n",
      "{}\n",
      "John 26\n",
      "birthday is not available\n",
      "{'sports': ['baseball', 'football', 'hockey', 'soccer']}\n"
     ]
    }
   ],
   "source": [
    "empty={}\n",
    "person= {'name':'John','age':26}\n",
    "print(person)\n",
    "print(dict())\n",
    "print(person[\"name\"],person[\"age\"])\n",
    "print(person.get(\"birthday\",\"birthday is not available\"))\n",
    "# improperly storing a list within a dictionary\n",
    "sports = [ \"baseball\", \"football\", \"hockey\", \"soccer\" ]\n",
    "sports_dict = {\"sports\":sports}     # will produce error, no key\n",
    "print(sports_dict)"
   ]
  },
  {
   "cell_type": "code",
   "execution_count": 19,
   "metadata": {},
   "outputs": [
    {
     "name": "stdout",
     "output_type": "stream",
     "text": [
      "football\n",
      "{'name': ['Tariq', 'Adil', 'Rachid']}\n",
      "['Tariq', 'Adil', 'Rachid']\n",
      "Adil\n"
     ]
    }
   ],
   "source": [
    "sports={\"name\":[\"football\",\"soccer\",\"basketball\"],\"players\":[\"John\",\"Mike\",\"Ali\",\"Ahmed\"]}\n",
    "print(sports[\"name\"][0])\n",
    "ages=[12,56,5,58,63,12]\n",
    "data=[\"Kamil\",\"Khaled\",{\"name\":[\"Tariq\",\"Adil\",\"Rachid\"]}]\n",
    "print(data[2])\n",
    "print(data[2][\"name\"])\n",
    "print(data[2][\"name\"][1])"
   ]
  },
  {
   "cell_type": "code",
   "execution_count": 1,
   "metadata": {},
   "outputs": [
    {
     "name": "stdout",
     "output_type": "stream",
     "text": [
      "{'2018': 108, '2017': 93}\n",
      "108\n"
     ]
    }
   ],
   "source": [
    "# storing a dictionary within a dictionary and accessing it\n",
    "data = {\n",
    "      \"team\": \"Boston Red Sox\",\n",
    "}\n",
    "print( data[\"wins\"] )   # will output the dictionary within the wins key\n",
    "print( data[\"wins\"][\"2018\"] )   # first access the wins key, then the next key"
   ]
  },
  {
   "cell_type": "code",
   "execution_count": 1,
   "metadata": {},
   "outputs": [
    {
     "name": "stdout",
     "output_type": "stream",
     "text": [
      "What is your name? Said\n",
      "How old are you?32\n",
      "{'name': 'Said', 'age': 32}\n"
     ]
    }
   ],
   "source": [
    "name=input(\"What is your name? \")\n",
    "age=int(input(\"How old are you?\"))\n",
    "person={\"name\":name,\"age\":age}\n",
    "print(person)"
   ]
  },
  {
   "cell_type": "code",
   "execution_count": 2,
   "metadata": {},
   "outputs": [
    {
     "name": "stdout",
     "output_type": "stream",
     "text": [
      "cheese\n",
      "sausage\n",
      "peppers\n"
     ]
    }
   ],
   "source": [
    " pizza = { 'ingredients': ['cheese', 'sausage', 'peppers']}\n",
    "for i in pizza[\"ingredients\"]:\n",
    "    print(i)"
   ]
  },
  {
   "cell_type": "code",
   "execution_count": 7,
   "metadata": {},
   "outputs": [
    {
     "name": "stdout",
     "output_type": "stream",
     "text": [
      "{'espresso': 64, 'chai': 40, 'decaf': 0, 'drip': 120}\n",
      "{'chai': 40, 'decaf': 0, 'drip': 120}\n"
     ]
    }
   ],
   "source": [
    "drinks = [\"espresso\", \"chai\", \"decaf\", \"drip\"]\n",
    "caffeine = [64, 40, 0, 120]\n",
    "zipped_drinks=zip(drinks,caffeine)\n",
    "drinks_to_caffeine={key:value for key,value in zipped_drinks}\n",
    "print(drinks_to_caffeine)\n",
    "del drinks_to_caffeine[\"espresso\"]\n",
    "print(drinks_to_caffeine)"
   ]
  },
  {
   "cell_type": "code",
   "execution_count": 9,
   "metadata": {},
   "outputs": [
    {
     "name": "stdout",
     "output_type": "stream",
     "text": [
      "Year: 2018 \t Color: White\n",
      "{'model': 'Mercedes'}\n"
     ]
    }
   ],
   "source": [
    "# updating a value for a key/value pair that already exists\n",
    "car = { \"year\": 2018, \"color\": \"Blue\" }\n",
    "car[\"color\"] = \"White\"\n",
    "print( \"Year: {} \\t Color: {}\".format( car[\"year\"], car[\"color\"] ) )\n",
    "# deleting a key/value pair from a dictionary\n",
    "car = { \"year\": 2018,\"model\":\"Mercedes\" }\n",
    "try:\n",
    "      del car[\"year\"]\n",
    "      print(car)\n",
    "except:\n",
    "      print(\"That key does not exist\")"
   ]
  },
  {
   "cell_type": "markdown",
   "metadata": {},
   "source": [
    "#Loop_over_dictionnary"
   ]
  },
  {
   "cell_type": "code",
   "execution_count": 21,
   "metadata": {},
   "outputs": [
    {
     "name": "stdout",
     "output_type": "stream",
     "text": [
      "Said\n",
      "Mohammed\n",
      "Fatima\n",
      "Fouzia\n",
      "Jamila\n",
      "32\n",
      "40\n",
      "41\n",
      "36\n",
      "37\n",
      "my name is Said, and I am 32 years old.\n",
      "my name is Mohammed, and I am 40 years old.\n",
      "my name is Fatima, and I am 41 years old.\n",
      "my name is Fouzia, and I am 36 years old.\n",
      "my name is Jamila, and I am 37 years old.\n"
     ]
    }
   ],
   "source": [
    "family={\"Said\":32,\"Mohammed\":40,\"Fatima\":41,\"Fouzia\":36,\"Jamila\":37}\n",
    "for name in family.keys():\n",
    "    print(name)\n",
    "for age in family.values():\n",
    "    print(age)\n",
    "for name,age in family.items():\n",
    "    print(\"my name is {}, and I am {} years old.\".format(name,age))\n",
    "name=\"\"\n",
    "while name!=\"quit\":    \n",
    "    name=input(\"What is your name? \")\n",
    "    address=input(\"What is your address? \")\n",
    "    number=input(\"What is your phone number? \")\n",
    "    user={}\n",
    "    user['name']=name\n",
    "    user['address']=address\n",
    "    user['number']=number\n",
    "    print(user)"
   ]
  },
  {
   "cell_type": "code",
   "execution_count": 3,
   "metadata": {},
   "outputs": [
    {
     "name": "stdout",
     "output_type": "stream",
     "text": [
      "Best Picture\n",
      "Best Actor\n",
      "Best Actress\n",
      "Animated Feature\n",
      "True\n"
     ]
    }
   ],
   "source": [
    "oscars = {\"Best Picture\": \"Moonlight\", \"Best Actor\": \"Casey Affleck\", \"Best Actress\": \"Emma Stone\", \"Animated Feature\": \"Zootopia\"}\n",
    "for element in oscars:\n",
    "    print(element)\n",
    "inventory = {\"iron spear\": 12, \"invisible knife\": 30, \"needle of ambition\": 10, \"stone glove\": 20, \"the peacemaker\": 65, \"demonslayer\": 50}\n",
    "\n",
    "print(\"the peacemaker\" in inventory)"
   ]
  },
  {
   "cell_type": "markdown",
   "metadata": {},
   "source": [
    "Tuples,Sets,Frozensets"
   ]
  },
  {
   "cell_type": "code",
   "execution_count": 4,
   "metadata": {},
   "outputs": [
    {
     "name": "stdout",
     "output_type": "stream",
     "text": [
      "<class 'tuple'> <class 'tuple'>\n"
     ]
    },
    {
     "ename": "TypeError",
     "evalue": "'tuple' object does not support item assignment",
     "output_type": "error",
     "traceback": [
      "\u001b[1;31m---------------------------------------------------------------------------\u001b[0m",
      "\u001b[1;31mTypeError\u001b[0m                                 Traceback (most recent call last)",
      "\u001b[1;32m<ipython-input-4-46e41fa5f488>\u001b[0m in \u001b[0;36m<module>\u001b[1;34m\u001b[0m\n\u001b[0;32m      3\u001b[0m \u001b[0mt2\u001b[0m \u001b[1;33m=\u001b[0m \u001b[1;32mTrue\u001b[0m\u001b[1;33m,\u001b[0m \u001b[1;36m1\u001b[0m                  \u001b[1;31m# without parens\u001b[0m\u001b[1;33m\u001b[0m\u001b[1;33m\u001b[0m\u001b[0m\n\u001b[0;32m      4\u001b[0m \u001b[0mprint\u001b[0m\u001b[1;33m(\u001b[0m \u001b[0mtype\u001b[0m\u001b[1;33m(\u001b[0m\u001b[0mt1\u001b[0m\u001b[1;33m)\u001b[0m\u001b[1;33m,\u001b[0m \u001b[0mtype\u001b[0m\u001b[1;33m(\u001b[0m\u001b[0mt2\u001b[0m\u001b[1;33m)\u001b[0m \u001b[1;33m)\u001b[0m     \u001b[1;31m# both are tuples\u001b[0m\u001b[1;33m\u001b[0m\u001b[1;33m\u001b[0m\u001b[0m\n\u001b[1;32m----> 5\u001b[1;33m \u001b[0mt1\u001b[0m\u001b[1;33m[\u001b[0m\u001b[1;36m0\u001b[0m\u001b[1;33m]\u001b[0m \u001b[1;33m=\u001b[0m \u001b[1;36m1\u001b[0m     \u001b[1;31m# will crash, tuples are immutable once declared\u001b[0m\u001b[1;33m\u001b[0m\u001b[1;33m\u001b[0m\u001b[0m\n\u001b[0m",
      "\u001b[1;31mTypeError\u001b[0m: 'tuple' object does not support item assignment"
     ]
    }
   ],
   "source": [
    "# declaring a tuple\n",
    "t1 = (\"hello\", 2, \"hello\")    # with parens\n",
    "t2 = True, 1                  # without parens\n",
    "print( type(t1), type(t2) )     # both are tuples\n",
    "t1[0] = 1     # will crash, tuples are immutable once declared"
   ]
  },
  {
   "cell_type": "code",
   "execution_count": 5,
   "metadata": {},
   "outputs": [
    {
     "name": "stdout",
     "output_type": "stream",
     "text": [
      "<class 'set'> <class 'set'>\n",
      "{2, 3, 5}\n"
     ]
    }
   ],
   "source": [
    "# declaring a set\n",
    "s1 = set( [1, 2, 3, 1] )      # uses the set keyword and square brackets\n",
    "s2 = {4, 4, 5}            # uses curly brackets, like dictionary\n",
    "print( type(s1), type(s2) )\n",
    "s1.add(5)      # using the add method to add new items to a set\n",
    "s1.remove(1)   # using the remove method to get rid of the value 1\n",
    "print(s1)     # notice when printed it removed the second \"1\" at the end"
   ]
  },
  {
   "cell_type": "code",
   "execution_count": 12,
   "metadata": {},
   "outputs": [
    {
     "name": "stdout",
     "output_type": "stream",
     "text": [
      "<class 'frozenset'>\n",
      "write down the number of account please: 2\n",
      "write down the account number pleaseAlpha\n",
      "write down the account number pleaseRomeo\n",
      "['Alpha', 'Romeo']\n",
      "frozenset({'Alpha', 'Romeo'})\n"
     ]
    }
   ],
   "source": [
    "# declaring a frozenset\n",
    "fset = frozenset( [1, 2, 3, 4] )\n",
    "print( type(fset) )\n",
    "number=int(input(\"write down the number of account please: \"))\n",
    "set_bank=[]\n",
    "for i in range(number):\n",
    "    data_in=input(\"write down the account number please\")\n",
    "    set_bank.append(data_in)\n",
    "print(set_bank)\n",
    "print(frozenset(set_bank))"
   ]
  },
  {
   "cell_type": "code",
   "execution_count": 13,
   "metadata": {},
   "outputs": [
    {
     "name": "stdout",
     "output_type": "stream",
     "text": [
      "{10, 3, 4, 7}\n"
     ]
    }
   ],
   "source": [
    "nums = [3,4,3,7,10]\n",
    "print(set(nums))\n",
    "    "
   ]
  },
  {
   "cell_type": "markdown",
   "metadata": {},
   "source": [
    "“Reading & Writing Files.”"
   ]
  },
  {
   "cell_type": "code",
   "execution_count": 3,
   "metadata": {},
   "outputs": [
    {
     "name": "stdout",
     "output_type": "stream",
     "text": [
      "this is a test\n"
     ]
    }
   ],
   "source": [
    "# opening/creating and writing to a text file\n",
    "f = open(\"test.txt\", \"w+\")   # open file in writing and reading mode\n",
    "f.write(\"this is a test\")\n",
    "f.close()\n",
    "# reading from a text file\n",
    "f = open(\"test.txt\", \"r\")\n",
    "data = f.read()\n",
    "f.close()\n",
    "print(data)"
   ]
  },
  {
   "cell_type": "code",
   "execution_count": 3,
   "metadata": {},
   "outputs": [
    {
     "name": "stdout",
     "output_type": "stream",
     "text": [
      "['Name', 'City']\n",
      "['Craig Lou', 'Taiwan']\n",
      "['Said', 'Salé']\n"
     ]
    }
   ],
   "source": [
    "# opening/creating and writing to a csv file\n",
    "import csv\n",
    "with open(\"test.csv\", mode=\"w\", newline=\"\") as f:,\n",
    "    writer = csv.writer(f, delimiter=\",\")\n",
    "    writer.writerow( [\"Name\", \"City\"] )\n",
    "    writer.writerow( [\"Craig Lou\", \"Taiwan\"])\n",
    "    writer.writerow([\"Said\",\"Salé\"])\n",
    "#reading from csv files\n",
    "with open(\"test.csv\", mode=\"r\",newline=\"\") as f:\n",
    "    reader = csv.reader(f, delimiter=\",\")\n",
    "    for row in reader:\n",
    "        print(row)"
   ]
  },
  {
   "cell_type": "code",
   "execution_count": 2,
   "metadata": {},
   "outputs": [
    {
     "name": "stdout",
     "output_type": "stream",
     "text": [
      "What is your favorite number?5\n"
     ]
    }
   ],
   "source": [
    "number=int(input(\"What is your favorite number?\"))\n",
    "with open(\"test.txt\",mode=\"a\",newline=\"\") as f:\n",
    "    f.write(\"\\n Your favorite number is {}.\".format(number))\n",
    "    f.close()"
   ]
  },
  {
   "cell_type": "code",
   "execution_count": 12,
   "metadata": {},
   "outputs": [],
   "source": [
    "#Need to be fixed \n",
    "import csv\n",
    "data = {'name' : ['Dave', 'Dennis', 'Peter', 'Jess'],'language': ['Python', 'C', 'Java', 'Python']}\n",
    "with open(\"exercise.csv\",mode=\"w+\",newline=\"\") as f:\n",
    "    writer=csv.writer(f,delimiter=\",\")\n",
    "    writer.writerow(data.keys())\n",
    "    for i in range(4):\n",
    "        a=data[\"name\"][i]\n",
    "        b=data[\"language\"][i]\n",
    "        writer.writerow([a,b])\n",
    "     \n",
    "        "
   ]
  },
  {
   "cell_type": "code",
   "execution_count": 1,
   "metadata": {},
   "outputs": [
    {
     "name": "stdout",
     "output_type": "stream",
     "text": [
      "15\n",
      "{'player1': 29, 'wordNerd': 32, 'Lexi Con': 31, 'Prof Reader': 31}\n"
     ]
    }
   ],
   "source": [
    "#scrabble\n",
    "letters = [\"A\", \"B\", \"C\", \"D\", \"E\", \"F\", \"G\", \"H\", \"I\", \"J\", \"K\", \"L\", \"M\", \"N\", \"O\", \"P\", \"Q\", \"R\", \"S\", \"T\", \"U\", \"V\", \"W\", \"X\", \"Y\", \"Z\"]\n",
    "points = [1, 3, 3, 2, 1, 4, 2, 4, 1, 8, 5, 1, 3, 4, 1, 3, 10, 1, 1, 1, 1, 4, 4, 8, 4, 10]\n",
    "letter_to_points={key:value for key,value in zip(letters,points)}\n",
    "letter_to_points[\" \"]=0\n",
    "def score_word(word):\n",
    "  point_total=0\n",
    "  for letter in word:\n",
    "    if letter in letters:\n",
    "      point_total+=letter_to_points[letter]\n",
    "  return point_total\n",
    "brownie_points=score_word(\"BROWNIE\") \n",
    "print(brownie_points)\n",
    "player_to_words={\"player1\":[\"BLUE\",\"TENNIS\",\"EXIT\"],\"wordNerd\":[\"EARTH\",\"EYES\",\"MACHINE\"],\"Lexi Con\":[\"ERASER\",\"BELLY\",\"HUSKY\"],\"Prof Reader\":[\"ZAP\",\"COMA\",\"PERIOD\"]}\n",
    "player_to_points={}\n",
    "for player,words in player_to_words.items():\n",
    "  player_points=0\n",
    "  for word in words:\n",
    "    player_points+= score_word(word)\n",
    "  player_to_points[player]=player_points\n",
    "print(player_to_points)"
   ]
  },
  {
   "cell_type": "markdown",
   "metadata": {},
   "source": [
    "1.<b>P</b>lay_word() — a function that would take in a player and a word, and add that word to the list of words they’ve played. <br>\n",
    "2.<b>U</b>pdate_point_totals() — turn your nested loops into a function that you can call any time a word is played. <br>\n",
    "3.<b>M</b>ake your letter_to_points dictionary able to handle lowercase inputs as well\n"
   ]
  },
  {
   "cell_type": "markdown",
   "metadata": {},
   "source": [
    "Friday Project: Creating a User Database with CSV Files.<br>\n",
    "1. Check to see if user is logged in.<br>\n",
    " a. If logged in, ask if they would like to log out/quit.<br>\n",
    " i. Either quit or log out user and restart.<br>\n",
    " b. Else, ask if they would like to log in/register/quit.<br>\n",
    " i.  If log in, ask user for e-mail/password.<br>\n",
    " 1. If correct, log user in and restart.<br>\n",
    " 2. Else, display error and restart.<br>\n",
    " ii. If register, ask for e-mail/password/password2.<br>\n",
    " 1. If passwords match, save user and restart.<br>\n",
    " 2. Else, display error and restart.<br>\n",
    " iii. If quit, say thank you and exit program.<br>"
   ]
  },
  {
   "cell_type": "code",
   "execution_count": 2,
   "metadata": {},
   "outputs": [
    {
     "name": "stdout",
     "output_type": "stream",
     "text": [
      "Thanks for using our software!\n"
     ]
    }
   ],
   "source": [
    "import csv \n",
    "from IPython.display import clear_output\n",
    "#register user \n",
    "def registeruser():\n",
    "    with open(\"database.csv\",mode=\"a\",newline=\"\") as f:\n",
    "        writer=csv.writer(f,delimiter=\",\")\n",
    "        print(\"to register please enter your infos: \")\n",
    "        email=input(\"please enter your email address: \")\n",
    "        password1=input(\"please enter your password : \")\n",
    "        password2=input(\"please enter your password again : \")\n",
    "        clear_output()\n",
    "        if password1==password2:\n",
    "            writer.writerow([email,password1])\n",
    "            print(\"Congratulations you are a registred user now\")\n",
    "        else:\n",
    "            print(\"The password you entered mismatched, please try again\")\n",
    "\n",
    "def loginuser():\n",
    "    email=input(\"enter your email address : \")\n",
    "    password=input(\"enter your password : \")\n",
    "    clear_output()\n",
    "    with open(\"database.csv\",mode=\"r\",newline=\"\") as f:\n",
    "        reader=csv.reader(f,delimiter=\",\")\n",
    "        for row in reader:\n",
    "            if row==[email,password]:\n",
    "                print(\"You are logged in!\")\n",
    "                return True\n",
    "        print(\"something went wrong!\")\n",
    "        return False\n",
    "#main variables for loop\n",
    "active=True\n",
    "logged_in=False\n",
    "while active:\n",
    "    if logged_in:\n",
    "        print(\"1.logout\\n2. Register\")\n",
    "    else:\n",
    "        print(\"1.login\\n2. Register\\n3. Quit\")\n",
    "    choice=input(\"what would you like to do? \")\n",
    "    clear_output()\n",
    "    if choice== \"register\" and logged_in==False:\n",
    "        registeruser()\n",
    "    elif choice==\"login\" and logged_in==False:\n",
    "        loginuser()\n",
    "    elif choice==\"quit\":\n",
    "        active=False\n",
    "        print(\"Thanks for using our software!\")\n",
    "    elif choice==\"logout\" and logged_in==True:\n",
    "        logged_in=False\n",
    "        print(\"You are now logged out.\")\n",
    "    else:\n",
    "        print(\"Sorry, please try again!\")\n",
    "        "
   ]
  },
  {
   "cell_type": "code",
   "execution_count": 3,
   "metadata": {},
   "outputs": [
    {
     "data": {
      "text/plain": [
       "True"
      ]
     },
     "execution_count": 3,
     "metadata": {},
     "output_type": "execute_result"
    }
   ],
   "source": [
    "def palindrome(word):\n",
    "    return True if word==word[::-1] else False\n",
    "palindrome('racecar')"
   ]
  },
  {
   "cell_type": "markdown",
   "metadata": {},
   "source": [
    "Weekly challenges page 172"
   ]
  },
  {
   "cell_type": "code",
   "execution_count": null,
   "metadata": {},
   "outputs": [],
   "source": []
  },
  {
   "cell_type": "code",
   "execution_count": null,
   "metadata": {},
   "outputs": [],
   "source": []
  }
 ],
 "metadata": {
  "kernelspec": {
   "display_name": "Python 3",
   "language": "python",
   "name": "python3"
  },
  "language_info": {
   "codemirror_mode": {
    "name": "ipython",
    "version": 3
   },
   "file_extension": ".py",
   "mimetype": "text/x-python",
   "name": "python",
   "nbconvert_exporter": "python",
   "pygments_lexer": "ipython3",
   "version": "3.7.6"
  }
 },
 "nbformat": 4,
 "nbformat_minor": 4
}
