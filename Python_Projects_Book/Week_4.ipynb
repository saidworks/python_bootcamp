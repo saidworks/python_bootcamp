{
 "cells": [
  {
   "cell_type": "markdown",
   "metadata": {},
   "source": [
    "Lists and loops"
   ]
  },
  {
   "cell_type": "code",
   "execution_count": 1,
   "metadata": {},
   "outputs": [
    {
     "name": "stdout",
     "output_type": "stream",
     "text": [
      "[14, 15, 'Said', 14, 58, 56]\n",
      "a:[14, 15, 'Said'] and b:[14, 58, 56]\n",
      "a's location is 2703475511880, b's location is 2703475473480.\n",
      "a's location is 2703475511880, b's location is 2703475473480.\n",
      "[14, 58, 56]\n",
      "first letter of each one: S,M,M,F\n"
     ]
    }
   ],
   "source": [
    "a=[14,15,\"Said\"]\n",
    "b=[14,58,56]\n",
    "b_copy=b[:]\n",
    "c=a+b\n",
    "print(c)\n",
    "print(\"a:{} and b:{}\".format(a,b))\n",
    "print(\"a's location is {}, b's location is {}.\".format(id(a),id(b)))\n",
    "a[0]=165\n",
    "print(\"a's location is {}, b's location is {}.\".format(id(a),id(b)))\n",
    "print(b_copy)\n",
    "family=[\"Said\",\"Maureen\",\"Mina\",\"Fatima\"]\n",
    "print(\"first letter of each one: {},{},{},{}\".format(family[0][0],family[1][0],family[2][0],family[3][0]))"
   ]
  },
  {
   "cell_type": "code",
   "execution_count": 2,
   "metadata": {},
   "outputs": [
    {
     "name": "stdout",
     "output_type": "stream",
     "text": [
      "The value is 0\n",
      "letter S\n",
      "letter a\n",
      "letter i\n",
      "letter d\n",
      "The value is 1\n",
      "letter S\n",
      "letter a\n",
      "letter i\n",
      "letter d\n",
      "The value is 2\n",
      "letter S\n",
      "letter a\n",
      "letter i\n",
      "letter d\n",
      "The value is 3\n",
      "letter S\n",
      "letter a\n",
      "letter i\n",
      "letter d\n"
     ]
    }
   ],
   "source": [
    "name=\"Said\"\n",
    "for num in range(5):\n",
    "    if num==4:\n",
    "        break\n",
    "    print(\"The value is {}\".format(num))\n",
    "    for letter in name:\n",
    "        print(\"letter {}\".format(letter))\n",
    "        for i in range(2):\n",
    "            #todo write a loop here Said\n",
    "            pass"
   ]
  },
  {
   "cell_type": "code",
   "execution_count": null,
   "metadata": {},
   "outputs": [],
   "source": []
  },
  {
   "cell_type": "code",
   "execution_count": 3,
   "metadata": {
    "scrolled": true
   },
   "outputs": [
    {
     "name": "stdout",
     "output_type": "stream",
     "text": [
      "write a wordSaid\n"
     ]
    },
    {
     "ename": "AttributeError",
     "evalue": "'list' object has no attribute 'split'",
     "output_type": "error",
     "traceback": [
      "\u001b[1;31m---------------------------------------------------------------------------\u001b[0m",
      "\u001b[1;31mAttributeError\u001b[0m                            Traceback (most recent call last)",
      "\u001b[1;32m<ipython-input-3-7932a4559364>\u001b[0m in \u001b[0;36m<module>\u001b[1;34m\u001b[0m\n\u001b[0;32m      4\u001b[0m     \u001b[1;32mif\u001b[0m \u001b[0mletter\u001b[0m \u001b[1;32min\u001b[0m \u001b[1;33m[\u001b[0m\u001b[1;34m'a'\u001b[0m\u001b[1;33m,\u001b[0m\u001b[1;34m'e'\u001b[0m\u001b[1;33m]\u001b[0m\u001b[1;33m:\u001b[0m\u001b[1;33m\u001b[0m\u001b[1;33m\u001b[0m\u001b[0m\n\u001b[0;32m      5\u001b[0m         \u001b[0mlist\u001b[0m\u001b[1;33m.\u001b[0m\u001b[0mappend\u001b[0m\u001b[1;33m(\u001b[0m\u001b[0mletter\u001b[0m\u001b[1;33m)\u001b[0m\u001b[1;33m\u001b[0m\u001b[1;33m\u001b[0m\u001b[0m\n\u001b[1;32m----> 6\u001b[1;33m     \u001b[0mlist\u001b[0m\u001b[1;33m.\u001b[0m\u001b[0msplit\u001b[0m\u001b[1;33m\u001b[0m\u001b[1;33m\u001b[0m\u001b[0m\n\u001b[0m",
      "\u001b[1;31mAttributeError\u001b[0m: 'list' object has no attribute 'split'"
     ]
    }
   ],
   "source": [
    "string=input(\"write a word\")\n",
    "for letter in string:\n",
    "    list=[]\n",
    "    if letter in ['a','e']:\n",
    "        list.append(letter)\n",
    "    list.split"
   ]
  },
  {
   "cell_type": "markdown",
   "metadata": {},
   "source": [
    "#While_loop"
   ]
  },
  {
   "cell_type": "code",
   "execution_count": 4,
   "metadata": {},
   "outputs": [
    {
     "name": "stdout",
     "output_type": "stream",
     "text": [
      "You are still healthy! 10!\n",
      "You are still healthy! 9!\n",
      "You are still healthy! 8!\n",
      "You are still healthy! 7!\n",
      "You are still healthy! 6!\n",
      "You are still healthy! 5!\n",
      "You are still healthy! 4!\n",
      "You are still healthy! 3!\n",
      "You are still healthy! 2!\n",
      "You are still healthy! 1!\n",
      "You are still healthy! 0!\n",
      "0\n",
      "9\n",
      "18\n",
      "27\n",
      "36\n",
      "45\n",
      "54\n",
      "63\n",
      "72\n",
      "81\n"
     ]
    }
   ],
   "source": [
    "health=10\n",
    "while health>=0:\n",
    "    print(\"You are still healthy! {}!\".format(health))\n",
    "    health-=1\n",
    "for i in range(10):\n",
    "    for j in range(10):\n",
    "        result=i*j\n",
    "    print(result)"
   ]
  },
  {
   "cell_type": "code",
   "execution_count": null,
   "metadata": {},
   "outputs": [],
   "source": [
    "type_in=\"\"\n",
    "while type_in!=\"quit\":\n",
    "    type_in=input(\"Write down your name (when you are done type quit)\")\n",
    "\n"
   ]
  },
  {
   "cell_type": "code",
   "execution_count": null,
   "metadata": {},
   "outputs": [],
   "source": [
    "for i in range(5):\n",
    "    if i>=3:\n",
    "        print('game over')\n",
    "        break\n",
    "    print(i)"
   ]
  },
  {
   "cell_type": "code",
   "execution_count": 21,
   "metadata": {},
   "outputs": [
    {
     "name": "stdout",
     "output_type": "stream",
     "text": [
      "[1, 15, 356, 155, 47, 54, 65, 85]\n",
      "This is [1, 15, 47, 54, 65, 85, 155, 356]\n",
      "[1, 15, 356, 155, 47]\n",
      "[155, 47, 54, 65]\n",
      "[356, 155, 47, 54, 65, 85]\n",
      "[1, 15, 356, 155, 47, 54, 65]\n",
      "[85, 65, 54, 47, 155, 356, 15, 1]\n",
      "This are 1 356 778\n",
      "[1, 15, 'the best', 356, 155, 47, 54, 65, 85]\n",
      "[15, 'the best', 356, 155, 47, 54, 65]\n"
     ]
    }
   ],
   "source": [
    "List=[1,15,356,155,47,54,65,85]\n",
    "List.sort\n",
    "print(List)\n",
    "print(\"This is {}\".format(sorted(List)))\n",
    "print(List[0:5:1])\n",
    "print(List[-5:-1])\n",
    "print(List[2::])\n",
    "print(List[:-1:1])\n",
    "print(List[::-1])\n",
    "print(\"This are {} {} {}\".format(min(List),max(List),sum(List)))\n",
    "List.insert(2,\"the best\")\n",
    "print(List)\n",
    "List.pop(0)\n",
    "List.pop()\n",
    "print(List)\n",
    "\n",
    "\n"
   ]
  },
  {
   "cell_type": "code",
   "execution_count": 6,
   "metadata": {},
   "outputs": [
    {
     "name": "stdout",
     "output_type": "stream",
     "text": [
      "['Football', 'Handball']\n"
     ]
    }
   ],
   "source": [
    "sports=[\"Football\",\"Handball\",\"Tennis\"]\n",
    "try:\n",
    "    sports.remove(\"Tennis\")\n",
    "except: \n",
    "    print(\"The item does not exist on the list\")\n",
    "print(sports)"
   ]
  },
  {
   "cell_type": "code",
   "execution_count": 22,
   "metadata": {},
   "outputs": [
    {
     "name": "stdout",
     "output_type": "stream",
     "text": [
      "Write your name:Said\n",
      "access granted!\n"
     ]
    }
   ],
   "source": [
    "names=[\"Maureen\",\"Said\"]\n",
    "entry=input(\"Write your name:\")\n",
    "if entry in names:\n",
    "    print(\"access granted!\")\n",
    "else:\n",
    "    print(\"sorry you do not have right to access this page\")"
   ]
  },
  {
   "cell_type": "code",
   "execution_count": 23,
   "metadata": {},
   "outputs": [
    {
     "name": "stdout",
     "output_type": "stream",
     "text": [
      "Write your name:Said\n",
      "You can touch mc!\n"
     ]
    }
   ],
   "source": [
    "names=[\"Said\"]\n",
    "entry=input(\"Write your name:\")\n",
    "if entry in names:\n",
    "    print(\"You can touch mc!\")\n",
    "else:\n",
    "    print(\"sorry you do not have right to touch Said's private property\")"
   ]
  },
  {
   "cell_type": "code",
   "execution_count": null,
   "metadata": {},
   "outputs": [],
   "source": [
    "names=[\"Bob\",\"Jack\",\"Bob\",\"Alpha\",\"Astra\",\"Bob\"]\n",
    "n=names.count(\"Bob\")\n",
    "while n>1:\n",
    "    names.remove(\"Bob\")\n",
    "    n-=1\n",
    "print(names)"
   ]
  },
  {
   "cell_type": "code",
   "execution_count": null,
   "metadata": {},
   "outputs": [],
   "source": [
    "entry=input(\"type something.. (you can quit any time you want)\")\n",
    "while entry!=\"quit\":\n",
    "    print(entry)\n",
    "    entry=input(\"type something.. (you can quit any time you want)\")"
   ]
  },
  {
   "cell_type": "code",
   "execution_count": null,
   "metadata": {},
   "outputs": [],
   "source": [
    "names=[\"Bob\",\"Jack\",\"Bob\",\"Alpha\",\"Astra\",\"Bob\"]\n",
    "n=names.count(\"Bob\")\n",
    "while n>1:\n",
    "    names.remove(\"Bob\")\n",
    "    n-=1\n",
    "print(names)\n",
    "\n",
    "entry=0\n",
    "while entry!=\"quit\":\n",
    "    entry=input(\"type something.. (you can quit any time you want)\")\n",
    "    print(entry)"
   ]
  },
  {
   "cell_type": "code",
   "execution_count": 2,
   "metadata": {},
   "outputs": [
    {
     "name": "stdout",
     "output_type": "stream",
     "text": [
      "[50, 70, 50, 80]\n"
     ]
    }
   ],
   "source": [
    "import random\n",
    "#sampling with replacement\n",
    "list = [20, 30, 40, 50 ,60, 70, 80]\n",
    "sampling = random.choices(list, k=4)\n",
    "print(sampling)"
   ]
  },
  {
   "cell_type": "code",
   "execution_count": 5,
   "metadata": {},
   "outputs": [
    {
     "ename": "IndexError",
     "evalue": "list index out of range",
     "output_type": "error",
     "traceback": [
      "\u001b[1;31m---------------------------------------------------------------------------\u001b[0m",
      "\u001b[1;31mIndexError\u001b[0m                                Traceback (most recent call last)",
      "\u001b[1;32m<ipython-input-5-f0573dcbe330>\u001b[0m in \u001b[0;36m<module>\u001b[1;34m\u001b[0m\n\u001b[0;32m      3\u001b[0m \u001b[1;32mfor\u001b[0m \u001b[0mi\u001b[0m \u001b[1;32min\u001b[0m \u001b[0mrange\u001b[0m\u001b[1;33m(\u001b[0m\u001b[1;36m4\u001b[0m\u001b[1;33m)\u001b[0m\u001b[1;33m:\u001b[0m\u001b[1;33m\u001b[0m\u001b[1;33m\u001b[0m\u001b[0m\n\u001b[0;32m      4\u001b[0m     \u001b[1;32mfor\u001b[0m \u001b[0mj\u001b[0m \u001b[1;32min\u001b[0m \u001b[0mrange\u001b[0m\u001b[1;33m(\u001b[0m\u001b[1;36m4\u001b[0m\u001b[1;33m)\u001b[0m\u001b[1;33m:\u001b[0m\u001b[1;33m\u001b[0m\u001b[1;33m\u001b[0m\u001b[0m\n\u001b[1;32m----> 5\u001b[1;33m         \u001b[0mlist\u001b[0m\u001b[1;33m[\u001b[0m\u001b[0mi\u001b[0m\u001b[1;33m]\u001b[0m\u001b[1;33m[\u001b[0m\u001b[0mj\u001b[0m\u001b[1;33m]\u001b[0m\u001b[1;33m=\u001b[0m\u001b[0mchoice\u001b[0m\u001b[1;33m(\u001b[0m\u001b[1;33m[\u001b[0m\u001b[1;36m1\u001b[0m\u001b[1;33m,\u001b[0m\u001b[1;36m2\u001b[0m\u001b[1;33m,\u001b[0m\u001b[1;36m3\u001b[0m\u001b[1;33m,\u001b[0m\u001b[1;36m4\u001b[0m\u001b[1;33m]\u001b[0m\u001b[1;33m)\u001b[0m\u001b[1;33m\u001b[0m\u001b[1;33m\u001b[0m\u001b[0m\n\u001b[0m",
      "\u001b[1;31mIndexError\u001b[0m: list index out of range"
     ]
    }
   ],
   "source": [
    "from random import *\n",
    "list=[]\n",
    "for i in range(8):\n",
    "    for j in range(8):\n",
    "        list[i][j]=choice([1,2,3,4])"
   ]
  },
  {
   "cell_type": "code",
   "execution_count": 7,
   "metadata": {},
   "outputs": [
    {
     "data": {
      "text/plain": [
       "[['S', 'S', 'S', 'T', 'U', 'R', 'T', 'R'],\n",
       " ['R', 'U', 'R', 'U', 'T', 'U', 'Q', 'Q'],\n",
       " ['S', 'T', 'Q', 'T', 'T', 'Q', 'R', 'R'],\n",
       " ['T', 'Q', 'Q', 'Q', 'T', 'S', 'R', 'T'],\n",
       " ['T', 'R', 'T', 'Q', 'U', 'S', 'U', 'R'],\n",
       " ['R', 'R', 'Q', 'R', 'T', 'R', 'U', 'U'],\n",
       " ['Q', 'S', 'T', 'R', 'Q', 'T', 'R', 'R'],\n",
       " ['U', 'R', 'Q', 'S', 'S', 'Q', 'Q', 'Q']]"
      ]
     },
     "execution_count": 7,
     "metadata": {},
     "output_type": "execute_result"
    }
   ],
   "source": [
    "from random import *\n",
    "score = 50\n",
    "goalscore = 100\n",
    "board=[[0,0,0,0,0,0,0,0],\n",
    "       [0,0,0,0,0,0,0,0],\n",
    "       [0,0,0,0,0,0,0,0],\n",
    "       [0,0,0,0,0,0,0,0],\n",
    "       [0,0,0,0,0,0,0,0],\n",
    "       [0,0,0,0,0,0,0,0],\n",
    "       [0,0,0,0,0,0,0,0],\n",
    "       [0,0,0,0,0,0,0,0]]\n",
    "def InitializeGrid(board):\n",
    "    #Initialize grid by random value\n",
    "    for i in range(8):\n",
    "        for j in range(8):\n",
    "            board[i][j]=choice(['Q','R','S','T','U'])\n",
    "    return board\n",
    "InitializeGrid(board)"
   ]
  },
  {
   "cell_type": "code",
   "execution_count": 1,
   "metadata": {},
   "outputs": [
    {
     "name": "stdout",
     "output_type": "stream",
     "text": [
      "Is this printed?\n",
      "This might be printed.\n"
     ]
    }
   ],
   "source": [
    "def print_something(x):\n",
    "  if x <= 2:\n",
    "    print(\"This is printed\")\n",
    "  if x <= 4:\n",
    "    print(\"This is also printed\")\n",
    "  if x <= 6:\n",
    "    print(\"Is this printed?\")\n",
    "  if x <= 8:\n",
    "    print(\"This might be printed.\")\n",
    "\n",
    "print_something(5)"
   ]
  },
  {
   "cell_type": "code",
   "execution_count": 2,
   "metadata": {},
   "outputs": [
    {
     "name": "stdout",
     "output_type": "stream",
     "text": [
      "A ZeroDivisionError occurred.\n"
     ]
    }
   ],
   "source": [
    "def divide_two_numbers(x, y):\n",
    "  result = x / y\n",
    "  return result\n",
    "\n",
    "try:\n",
    "  result = divide_two_numbers(2,0)\n",
    "  print(result)\n",
    "except NameError:\n",
    "  print(\"A NameError occurred.\")\n",
    "except ValueError:\n",
    "  print(\"A ValueError occurred.\") \n",
    "except ZeroDivisionError:\n",
    "  print(\"A ZeroDivisionError occurred.\")"
   ]
  },
  {
   "cell_type": "code",
   "execution_count": 5,
   "metadata": {},
   "outputs": [
    {
     "name": "stdout",
     "output_type": "stream",
     "text": [
      "53.6\n",
      "6.75\n",
      "Ground shipping is the cheapest as it costs 34.4\n",
      "Ground shipping is the cheapest as it costs 217.125\n"
     ]
    }
   ],
   "source": [
    "def ground_shipping(weight,premium=False):\n",
    "  if premium==False:\n",
    "    if weight<=2:\n",
    "      return weight*1.5+20.00\n",
    "    elif weight>2 and weight<=6:\n",
    "      return weight*3.0+20.00\n",
    "    elif weight>6 and weight<=10:\n",
    "      return weight*4.0+20.00\n",
    "    elif weight>10:\n",
    "      return weight*4.75+20.00\n",
    "  elif premium==True:\n",
    "    return weight*4.75+125.00\n",
    "print(ground_shipping(8.4,False))\n",
    "def drone_shipping(weight):\n",
    "  if weight<=2:\n",
    "    return weight*4.5\n",
    "  elif weight>2 and weight<=6:\n",
    "    return weight*9.0\n",
    "  elif weight>6 and weight<=10:\n",
    "    return weight*12.0\n",
    "  elif weight>10:\n",
    "    return weight*14.25\n",
    "print(drone_shipping(1.5))\n",
    "\n",
    "def cheapest_method(weight): \n",
    "  if ground_shipping(weight)>drone_shipping(weight):\n",
    "    return \"Drone shipping is the cheapest as it costs {}\".format(drone_shipping(weight))\n",
    "  else:\n",
    "    return \"Ground shipping is the cheapest as it costs {}\".format(ground_shipping(weight))\n",
    "print(cheapest_method(4.8))\n",
    "print(cheapest_method(41.5))\n",
    "  "
   ]
  },
  {
   "cell_type": "code",
   "execution_count": 10,
   "metadata": {},
   "outputs": [
    {
     "name": "stdout",
     "output_type": "stream",
     "text": [
      "[('Jenny', 'Elphonse'), ('Alexus', 'Dr. Doggy DDS'), ('Sam', 'Carter'), ('Grace', 'Ralph')]\n",
      "[0, 1, 2, 3, 4, 5, 6, 7, 8, 9, 10, 11, 12, 13, 14, 15, 16, 17, 18, 19, 20, 21, 22, 23, 24, ['15']]\n"
     ]
    }
   ],
   "source": [
    "names = ['Jenny', 'Alexus', 'Sam', 'Grace']\n",
    "dogs_names = ['Elphonse', 'Dr. Doggy DDS', 'Carter', 'Ralph']\n",
    "list_of_lists = [ [a, b] for (a, b) in zip(names, dogs_names)]\n",
    "print(list(zip(names, dogs_names)))\n",
    "myList = [i for i in range(25)]\n",
    "age=[\"15\"]\n",
    "myList.append(age)\n",
    "print(list(myList))\n"
   ]
  },
  {
   "cell_type": "code",
   "execution_count": null,
   "metadata": {},
   "outputs": [],
   "source": []
  }
 ],
 "metadata": {
  "kernelspec": {
   "display_name": "Python 3",
   "language": "python",
   "name": "python3"
  },
  "language_info": {
   "codemirror_mode": {
    "name": "ipython",
    "version": 3
   },
   "file_extension": ".py",
   "mimetype": "text/x-python",
   "name": "python",
   "nbconvert_exporter": "python",
   "pygments_lexer": "ipython3",
   "version": "3.7.6"
  }
 },
 "nbformat": 4,
 "nbformat_minor": 4
}
