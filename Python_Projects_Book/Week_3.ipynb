{
 "cells": [
  {
   "cell_type": "markdown",
   "metadata": {},
   "source": [
    "User Input & Type Converting"
   ]
  },
  {
   "cell_type": "code",
   "execution_count": 11,
   "metadata": {},
   "outputs": [
    {
     "name": "stdout",
     "output_type": "stream",
     "text": [
      "what is your name? Said\n",
      "Hello Said !\n",
      "<class 'str'>\n",
      "write a number5\n",
      "'10'+5=10\n"
     ]
    }
   ],
   "source": [
    "name=input(\"what is your name? \")\n",
    "print(\"Hello {} !\".format(name))\n",
    "print(type(name))\n",
    "num1=input(\"write a number\")\n",
    "num1=int(num1)\n",
    "num=5\n",
    "type(num)\n",
    "result=num+num1\n",
    "print(\"{}+{}={}\".format(num,num1,result))\n"
   ]
  },
  {
   "cell_type": "markdown",
   "metadata": {},
   "source": [
    "Final Project"
   ]
  },
  {
   "cell_type": "code",
   "execution_count": 3,
   "metadata": {},
   "outputs": [
    {
     "name": "stdout",
     "output_type": "stream",
     "text": [
      "what kind of operation would you perform? (choose a number like 1 for multiplication): \n",
      "1.multiplication \n",
      "2.division \n",
      "3substraction \n",
      "4.Addition 5\n",
      "please choose again\n"
     ]
    }
   ],
   "source": [
    "#Read-in data from the user\n",
    "operation=int(input(\"what kind of operation would you perform? (choose a number like 1 for multiplication): \\n1.multiplication \\n2.division \\n3substraction \\n4.Addition \"))\n",
    "#which operation \n",
    "if operation<5 and operation>0:\n",
    "    num1=float(input(\"type in the first number please: \"))\n",
    "    num2=float(input(\"type in the second number please: \"))\n",
    "    if operation==4:\n",
    "        result=num1+num2\n",
    "        print(\"{}+{}={}\".format(num1,num2,result))\n",
    "    elif operation==3:\n",
    "        result=num1-num2\n",
    "        print(\"{}-{}={}\".format(num1,num2,result))\n",
    "    elif operation==2:\n",
    "        result=num1/num2\n",
    "        print(\"{}/{}={}\".format(num1,num2,result))\n",
    "    elif operation==1:\n",
    "        result=num1*num2\n",
    "        print(\"{}*{}={}\".format(num1,num2,result))\n",
    "else:\n",
    "    print(\"please choose again\")\n",
    "        "
   ]
  },
  {
   "cell_type": "code",
   "execution_count": null,
   "metadata": {},
   "outputs": [],
   "source": []
  },
  {
   "cell_type": "code",
   "execution_count": null,
   "metadata": {},
   "outputs": [],
   "source": []
  },
  {
   "cell_type": "code",
   "execution_count": null,
   "metadata": {},
   "outputs": [],
   "source": []
  }
 ],
 "metadata": {
  "kernelspec": {
   "display_name": "Python 3",
   "language": "python",
   "name": "python3"
  },
  "language_info": {
   "codemirror_mode": {
    "name": "ipython",
    "version": 3
   },
   "file_extension": ".py",
   "mimetype": "text/x-python",
   "name": "python",
   "nbconvert_exporter": "python",
   "pygments_lexer": "ipython3",
   "version": "3.7.6"
  }
 },
 "nbformat": 4,
 "nbformat_minor": 4
}
