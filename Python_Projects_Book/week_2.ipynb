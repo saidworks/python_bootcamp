{
 "cells": [
  {
   "cell_type": "markdown",
   "metadata": {},
   "source": [
    "#Working with string"
   ]
  },
  {
   "cell_type": "code",
   "execution_count": 14,
   "metadata": {},
   "outputs": [
    {
     "name": "stdout",
     "output_type": "stream",
     "text": [
      "John Smith\n",
      "Hello John Smith,you are 28 years old\n",
      "Hello John Smith\n",
      "It is False,he is 28 years old and his name is  John Smith!\n",
      "Said ZITOUNI\n"
     ]
    }
   ],
   "source": [
    "name=\"john\"+\" \"+\"smith\"\n",
    "print(name.title())\n",
    "print(\"Hello {},you are {} years old\".format(name.title(),28))\n",
    "print(f\"Hello {name.title()}\")\n",
    "print(\"It is {},he is {} years old and his name is  {}!\".format(False,28,\"John Smith\".title()))\n",
    "print(name.replace(\"john smith\",\"Said ZITOUNI\"))"
   ]
  },
  {
   "cell_type": "markdown",
   "metadata": {},
   "source": [
    "#Manipulating strings"
   ]
  },
  {
   "cell_type": "code",
   "execution_count": 30,
   "metadata": {},
   "outputs": [
    {
     "name": "stdout",
     "output_type": "stream",
     "text": [
      "Said ZITOUNI\n",
      "JOHN SMITH\n",
      "1\n",
      "john smith\n",
      "['john', 'smith']\n",
      "John\n"
     ]
    }
   ],
   "source": [
    "name=\"john\"+\" \"+\"smith\"\n",
    "print(name.replace(\"john smith\",\"Said ZITOUNI\"))\n",
    "print(name.upper())\n",
    "print(name.find(\"ohn\"))\n",
    "print(name.strip())\n",
    "list=name.split(\" \")\n",
    "print(list)\n",
    "s=\"$$John\"\n",
    "print(s.lstrip('$'))\n"
   ]
  },
  {
   "cell_type": "markdown",
   "metadata": {},
   "source": [
    "#printing recipes project"
   ]
  },
  {
   "cell_type": "code",
   "execution_count": 25,
   "metadata": {},
   "outputs": [
    {
     "name": "stdout",
     "output_type": "stream",
     "text": [
      "**************************************************\n",
      "\t\tCoding Temple,Inc.\n",
      "\t\t283 Franklin St.\n",
      "\t\tBoston,Ma\n",
      "==================================================\n",
      "\tProduct name\tProduct price\n",
      "\tBooks\t\t$49.95\n",
      "\tComputer\t$579.99\n",
      "\tMonitor\t\t$124.89\n",
      "==================================================\n",
      "\t\t\tTotal\n",
      "\t\t\t754.83\n",
      "==================================================\n",
      "\tThanks for shopping with us today!\n",
      "**************************************************\n"
     ]
    }
   ],
   "source": [
    "#define company informations\n",
    "company_name=\"Coding Temple,Inc.\"\n",
    "company_adress=\"283 Franklin St.\"\n",
    "company_city=\"Boston,MA\"\n",
    "#define items' prices \n",
    "p1_name,p1_price=\"Books\",49.95\n",
    "p2_name,p2_price=\"Computer\",579.99\n",
    "p3_name,p3_price=\"Monitor\",124.89\n",
    "#declare last message \n",
    "message=\"Thanks for shopping with us today!\"\n",
    "#calculations\n",
    "total=p1_price+p2_price+p3_price\n",
    "#print a receipt \n",
    "print(\"*\"*50)\n",
    "print(\"\\t\\t{}\".format(company_name.title()))\n",
    "print(\"\\t\\t{}\".format(company_adress.title()))\n",
    "print(\"\\t\\t{}\".format(company_city.title()))\n",
    "print(\"=\"*50)\n",
    "print(\"\\t{}\\t{}\".format(\"Product name\",\"Product price\"))\n",
    "print(\"\\t{}\\t\\t${}\".format(p1_name,p1_price))\n",
    "print(\"\\t{}\\t${}\".format(p2_name,p2_price))\n",
    "print(\"\\t{}\\t\\t${}\".format(p3_name,p3_price))\n",
    "print(\"=\"*50)\n",
    "print(\"\\t\\t\\t{}\".format(\"Total\"))\n",
    "print(\"\\t\\t\\t{}\".format(total))\n",
    "print(\"=\"*50)\n",
    "print(\"\\t{}\".format(message))\n",
    "print(\"*\"*50)"
   ]
  },
  {
   "cell_type": "code",
   "execution_count": 27,
   "metadata": {},
   "outputs": [
    {
     "ename": "ModuleNotFoundError",
     "evalue": "No module named '_curses'",
     "output_type": "error",
     "traceback": [
      "\u001b[1;31m---------------------------------------------------------------------------\u001b[0m",
      "\u001b[1;31mModuleNotFoundError\u001b[0m                       Traceback (most recent call last)",
      "\u001b[1;32m<ipython-input-27-092aa8705add>\u001b[0m in \u001b[0;36m<module>\u001b[1;34m\u001b[0m\n\u001b[1;32m----> 1\u001b[1;33m \u001b[1;32mimport\u001b[0m \u001b[0mcurses\u001b[0m\u001b[1;33m\u001b[0m\u001b[1;33m\u001b[0m\u001b[0m\n\u001b[0m\u001b[0;32m      2\u001b[0m \u001b[1;33m\u001b[0m\u001b[0m\n\u001b[0;32m      3\u001b[0m \u001b[1;32mdef\u001b[0m \u001b[0mmain\u001b[0m\u001b[1;33m(\u001b[0m\u001b[0mstdscr\u001b[0m\u001b[1;33m)\u001b[0m\u001b[1;33m:\u001b[0m\u001b[1;33m\u001b[0m\u001b[1;33m\u001b[0m\u001b[0m\n\u001b[0;32m      4\u001b[0m     \u001b[1;31m# Clear screen\u001b[0m\u001b[1;33m\u001b[0m\u001b[1;33m\u001b[0m\u001b[1;33m\u001b[0m\u001b[0m\n\u001b[0;32m      5\u001b[0m     \u001b[0mstdscr\u001b[0m\u001b[1;33m.\u001b[0m\u001b[0mclear\u001b[0m\u001b[1;33m(\u001b[0m\u001b[1;33m)\u001b[0m\u001b[1;33m\u001b[0m\u001b[1;33m\u001b[0m\u001b[0m\n",
      "\u001b[1;32mC:\\ProgramData\\Anaconda3\\lib\\curses\\__init__.py\u001b[0m in \u001b[0;36m<module>\u001b[1;34m\u001b[0m\n\u001b[0;32m     11\u001b[0m \"\"\"\n\u001b[0;32m     12\u001b[0m \u001b[1;33m\u001b[0m\u001b[0m\n\u001b[1;32m---> 13\u001b[1;33m \u001b[1;32mfrom\u001b[0m \u001b[0m_curses\u001b[0m \u001b[1;32mimport\u001b[0m \u001b[1;33m*\u001b[0m\u001b[1;33m\u001b[0m\u001b[1;33m\u001b[0m\u001b[0m\n\u001b[0m\u001b[0;32m     14\u001b[0m \u001b[1;32mimport\u001b[0m \u001b[0mos\u001b[0m \u001b[1;32mas\u001b[0m \u001b[0m_os\u001b[0m\u001b[1;33m\u001b[0m\u001b[1;33m\u001b[0m\u001b[0m\n\u001b[0;32m     15\u001b[0m \u001b[1;32mimport\u001b[0m \u001b[0msys\u001b[0m \u001b[1;32mas\u001b[0m \u001b[0m_sys\u001b[0m\u001b[1;33m\u001b[0m\u001b[1;33m\u001b[0m\u001b[0m\n",
      "\u001b[1;31mModuleNotFoundError\u001b[0m: No module named '_curses'"
     ]
    }
   ],
   "source": [
    "import curses\n",
    "\n",
    "def main(stdscr):\n",
    "    # Clear screen\n",
    "    stdscr.clear()\n",
    "\n",
    "    # This raises ZeroDivisionError when i == 10.\n",
    "    for i in range(0, 11):\n",
    "        v = i-10\n",
    "        stdscr.addstr(i, 0, '10 divided by {} is {}'.format(v, 10/v))\n",
    "\n",
    "    stdscr.refresh()\n",
    "    stdscr.getkey()\n",
    "\n",
    "wrapper(main)"
   ]
  },
  {
   "cell_type": "code",
   "execution_count": 56,
   "metadata": {},
   "outputs": [
    {
     "name": "stdout",
     "output_type": "stream",
     "text": [
      "olleH\n"
     ]
    }
   ],
   "source": [
    "var=\"Hello\"\n",
    "var1=var[::-1]\n",
    "print(var1)"
   ]
  },
  {
   "cell_type": "code",
   "execution_count": null,
   "metadata": {},
   "outputs": [],
   "source": []
  }
 ],
 "metadata": {
  "kernelspec": {
   "display_name": "Python 3",
   "language": "python",
   "name": "python3"
  },
  "language_info": {
   "codemirror_mode": {
    "name": "ipython",
    "version": 3
   },
   "file_extension": ".py",
   "mimetype": "text/x-python",
   "name": "python",
   "nbconvert_exporter": "python",
   "pygments_lexer": "ipython3",
   "version": "3.7.6"
  }
 },
 "nbformat": 4,
 "nbformat_minor": 4
}
