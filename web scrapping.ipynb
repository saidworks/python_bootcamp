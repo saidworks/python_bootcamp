{
 "cells": [
  {
   "cell_type": "code",
   "execution_count": 1,
   "metadata": {},
   "outputs": [
    {
     "ename": "AttributeError",
     "evalue": "'NoneType' object has no attribute 'get_text'",
     "output_type": "error",
     "traceback": [
      "\u001b[1;31m---------------------------------------------------------------------------\u001b[0m",
      "\u001b[1;31mAttributeError\u001b[0m                            Traceback (most recent call last)",
      "\u001b[1;32m<ipython-input-1-ffa9a3728e2f>\u001b[0m in \u001b[0;36m<module>\u001b[1;34m\u001b[0m\n\u001b[0;32m     46\u001b[0m     \u001b[1;31m# get article title\u001b[0m\u001b[1;33m\u001b[0m\u001b[1;33m\u001b[0m\u001b[1;33m\u001b[0m\u001b[0m\n\u001b[0;32m     47\u001b[0m     \u001b[0matitle\u001b[0m \u001b[1;33m=\u001b[0m \u001b[0msoup\u001b[0m\u001b[1;33m.\u001b[0m\u001b[0mfind\u001b[0m\u001b[1;33m(\u001b[0m\u001b[0mclass_\u001b[0m\u001b[1;33m=\u001b[0m\u001b[1;34m\"_21349 africa none _4ca8e\"\u001b[0m\u001b[1;33m)\u001b[0m\u001b[1;33m\u001b[0m\u001b[1;33m\u001b[0m\u001b[0m\n\u001b[1;32m---> 48\u001b[1;33m     \u001b[0mthetitle\u001b[0m \u001b[1;33m=\u001b[0m \u001b[0matitle\u001b[0m\u001b[1;33m.\u001b[0m\u001b[0mget_text\u001b[0m\u001b[1;33m(\u001b[0m\u001b[1;33m)\u001b[0m\u001b[1;33m\u001b[0m\u001b[1;33m\u001b[0m\u001b[0m\n\u001b[0m\u001b[0;32m     49\u001b[0m     \u001b[1;31m# get main article page\u001b[0m\u001b[1;33m\u001b[0m\u001b[1;33m\u001b[0m\u001b[1;33m\u001b[0m\u001b[0m\n\u001b[0;32m     50\u001b[0m     \u001b[0marticlebody\u001b[0m \u001b[1;33m=\u001b[0m \u001b[0msoup\u001b[0m\u001b[1;33m.\u001b[0m\u001b[0mfind\u001b[0m\u001b[1;33m(\u001b[0m\u001b[0mclass_\u001b[0m\u001b[1;33m=\u001b[0m\u001b[1;34m'_61c55'\u001b[0m\u001b[1;33m)\u001b[0m\u001b[1;33m\u001b[0m\u001b[1;33m\u001b[0m\u001b[0m\n",
      "\u001b[1;31mAttributeError\u001b[0m: 'NoneType' object has no attribute 'get_text'"
     ]
    }
   ],
   "source": [
    "# --optional, to let web admin reach out if they want to\n",
    "# headers = {\n",
    "#     'User-Agent': 'Morgan, asking@mail.com',\n",
    "#     'From': 'asking@mail.com'\n",
    "# }\n",
    "\n",
    "import requests\n",
    "from bs4 import BeautifulSoup\n",
    "\n",
    "from selenium import webdriver\n",
    "import time\n",
    "\n",
    "import pandas as pd\n",
    "import numpy as np\n",
    "from datetime import datetime\n",
    "\n",
    "page = requests.get('https://qz.com/africa/latest')\n",
    "\n",
    "soup = BeautifulSoup(page.content, 'html.parser')\n",
    "weblinks = soup.find_all('article')\n",
    "\n",
    "pagelinks = []\n",
    "for link in weblinks[5:]:\n",
    "    url = link.contents[0].find_all('a')[0]\n",
    "    pagelinks.append('http://qz.com'+url.get('href'))\n",
    "\n",
    "authorname = []\n",
    "title = []\n",
    "thearticle = []\n",
    "for link in pagelinks:    \n",
    "    # store the text for each article\n",
    "    paragraphtext = []    \n",
    "    # get url\n",
    "    url = link\n",
    "    # get page text\n",
    "    page = requests.get(url)\n",
    "    # parse with BFS\n",
    "    soup = BeautifulSoup(page.text, 'html.parser')    \n",
    "    # get author name, if there's a named author\n",
    "    try:\n",
    "        abody = soup.find(class_='d3284 africa').find('a')\n",
    "        aname = abody.get_text() \n",
    "    except:\n",
    "        aname = 'Anonymous'    \n",
    "\n",
    "    # get article title\n",
    "    atitle = soup.find(class_=\"_21349 africa none _4ca8e\")\n",
    "    thetitle = atitle.get_text() \n",
    "    # get main article page\n",
    "    articlebody = soup.find(class_='_61c55')\n",
    "    # get text\n",
    "    articletext = soup.find_all('p')[8:]\n",
    "    # print text\n",
    "    for paragraph in articletext[:-1]:\n",
    "        # get the text only\n",
    "        text = paragraph.get_text()\n",
    "        paragraphtext.append(text)        \n",
    "    # combine all paragraphs into an article\n",
    "    thearticle.append(paragraphtext)\n",
    "    authorname.append(aname)\n",
    "    title.append(thetitle)\n",
    "\n",
    "# join paragraphs to re-create the article\n",
    "myarticle = [' '.join(article) for article in thearticle]\n",
    "\n",
    "# save article data to file\n",
    "data = {'Title':title, \n",
    "        'Author':authorname, \n",
    "        'PageLink':pagelinks, \n",
    "        'Article':myarticle, \n",
    "        'Date':datetime.now()}\n",
    "\n",
    "oldnews = pd.read_excel('quartz\\\\news.xlsx')\n",
    "news = pd.DataFrame(data=data)\n",
    "cols = ['Title', 'Author', 'PageLink', 'Article', 'Date']\n",
    "news = news[cols]\n",
    "\n",
    "afronews = oldnews.append(news)\n",
    "afronews.drop_duplicates(subset='Title', keep='last', inplace=True)\n",
    "afronews.reset_index(inplace=True)\n",
    "afronews.drop(labels='index', axis=1, inplace=True)\n",
    "\n",
    "filename = 'quartz\\\\news.xlsx'\n",
    "wks_name = 'Data'\n",
    "\n",
    "writer = pd.ExcelWriter(filename)\n",
    "afronews.to_excel(writer, wks_name, index=False)\n",
    "\n",
    "writer.save()"
   ]
  },
  {
   "cell_type": "code",
   "execution_count": 4,
   "metadata": {},
   "outputs": [
    {
     "ename": "SyntaxError",
     "evalue": "invalid syntax (<ipython-input-4-eeb643144ced>, line 5)",
     "output_type": "error",
     "traceback": [
      "\u001b[1;36m  File \u001b[1;32m\"<ipython-input-4-eeb643144ced>\"\u001b[1;36m, line \u001b[1;32m5\u001b[0m\n\u001b[1;33m    website = {\"cnn\": {\"link\": \"edition.cnn.com\", \"rss\": \"rss.cnn.com/rss/cnn_topstories.rss\"}, \"cnbc\":{\"link\": \"cnbc.com\", \"rss\": \"cnbc.com/id/10000664/device/rss/rss.html\"}} A\u001b[0m\n\u001b[1;37m                                                                                                                                                                                ^\u001b[0m\n\u001b[1;31mSyntaxError\u001b[0m\u001b[1;31m:\u001b[0m invalid syntax\n"
     ]
    }
   ],
   "source": [
    "import feedparser as fp\n",
    "import newspaper\n",
    "from newspaper import Article\n",
    "\n",
    "website = {\"cnn\": {\"link\": \"edition.cnn.com\", \"rss\": \"rss.cnn.com/rss/cnn_topstories.rss\"}, \"cnbc\":{\"link\": \"cnbc.com\", \"rss\": \"cnbc.com/id/10000664/device/rss/rss.html\"}} A \n",
    "\n",
    "article_list = [] # INIT ONCE\n",
    "for source, value in website.items():\n",
    "    if 'rss' in value:\n",
    "        d = fp.parse(value['rss']) \n",
    "        #if there is an RSS value for a company, it will be extracted into d\n",
    "        # article_list = [] THIS IS WHERE IT WAS BEING OVERWRITTEN\n",
    "\n",
    "        for entry in d.entries:\n",
    "            if hasattr(entry, 'published'):\n",
    "                article = {}\n",
    "                article['link'] = entry.link\n",
    "                article_list.append(article['link'])\n",
    "                print(article['link'])"
   ]
  },
  {
   "cell_type": "code",
   "execution_count": 2,
   "metadata": {},
   "outputs": [
    {
     "ename": "SyntaxError",
     "evalue": "invalid syntax (<ipython-input-2-ccc03f08842a>, line 1)",
     "output_type": "error",
     "traceback": [
      "\u001b[1;36m  File \u001b[1;32m\"<ipython-input-2-ccc03f08842a>\"\u001b[1;36m, line \u001b[1;32m1\u001b[0m\n\u001b[1;33m    pip install schedule\u001b[0m\n\u001b[1;37m              ^\u001b[0m\n\u001b[1;31mSyntaxError\u001b[0m\u001b[1;31m:\u001b[0m invalid syntax\n"
     ]
    }
   ],
   "source": []
  },
  {
   "cell_type": "code",
   "execution_count": null,
   "metadata": {},
   "outputs": [],
   "source": []
  }
 ],
 "metadata": {
  "kernelspec": {
   "display_name": "Python 3",
   "language": "python",
   "name": "python3"
  },
  "language_info": {
   "codemirror_mode": {
    "name": "ipython",
    "version": 3
   },
   "file_extension": ".py",
   "mimetype": "text/x-python",
   "name": "python",
   "nbconvert_exporter": "python",
   "pygments_lexer": "ipython3",
   "version": "3.7.6"
  }
 },
 "nbformat": 4,
 "nbformat_minor": 4
}
