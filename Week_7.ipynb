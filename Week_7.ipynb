{
 "cells": [
  {
   "cell_type": "markdown",
   "metadata": {},
   "source": [
    "#Creating & Instantiating a Class."
   ]
  },
  {
   "cell_type": "code",
   "execution_count": 6,
   "metadata": {},
   "outputs": [
    {
     "name": "stdout",
     "output_type": "stream",
     "text": [
      "<__main__.car object at 0x000001C44314EDC8>\n",
      "-9223371915451609380\n",
      "<__main__.car object at 0x000001C44317D9C8>\n",
      "-9223371915451597412\n"
     ]
    }
   ],
   "source": [
    "class Patient(object):\n",
    "    '''Medical center patient'''\n",
    "    pass\n",
    "x=Patient()\n",
    "class car():\n",
    "    pass\n",
    "ford=car()\n",
    "renault=car()\n",
    "print(ford)\n",
    "print(hash(ford))\n",
    "print(renault)\n",
    "print(hash(renault))\n",
    "class animals():\n",
    "    pass\n",
    "lion=animals()\n",
    "tiger=animals()"
   ]
  },
  {
   "cell_type": "markdown",
   "metadata": {},
   "source": [
    "Attributes"
   ]
  },
  {
   "cell_type": "code",
   "execution_count": 8,
   "metadata": {},
   "outputs": [
    {
     "name": "stdout",
     "output_type": "stream",
     "text": [
      "red\n",
      "beep\n",
      "honk\n",
      "<__main__.Car object at 0x000001EC3EB702C8>\n"
     ]
    }
   ],
   "source": [
    "class Car():\n",
    "    color=\"red\"\n",
    "    sound=\"beep\"\n",
    "ford=Car()\n",
    "print(ford.color)\n",
    "print(ford.sound)\n",
    "ford.sound=\"honk\"\n",
    "print(ford.sound)\n",
    "print(ford)"
   ]
  },
  {
   "cell_type": "code",
   "execution_count": 21,
   "metadata": {},
   "outputs": [
    {
     "name": "stdout",
     "output_type": "stream",
     "text": [
      "Blue 2008\n",
      "Grey 2011\n"
     ]
    }
   ],
   "source": [
    "class Car():\n",
    "    def __init__(self,color,year):\n",
    "        self.color=color\n",
    "        self.year=year\n",
    "ford=Car(\"Blue\",2008)\n",
    "renault=Car(\"Grey\",2011)\n",
    "print(ford.color,ford.year)\n",
    "print(renault.color,renault.year)"
   ]
  },
  {
   "cell_type": "code",
   "execution_count": 5,
   "metadata": {},
   "outputs": [
    {
     "name": "stdout",
     "output_type": "stream",
     "text": [
      "beep\n",
      "beep blue\n",
      "honk\n"
     ]
    }
   ],
   "source": [
    " # using and accessing global class attributes\n",
    "class Car( ):\n",
    "    sound = \"beep\"   # global attribute, accessible through the class itself\n",
    "    def __init__(self, color):\n",
    "        self.color = \"blue\"     #  instance specific attribute, not accessible through the class itself\n",
    "print(Car.sound)\n",
    "#print(Car.color)    #won't work, as color is only available to instances of the Car class, not the class itself\n",
    "ford = Car(\"blue\")\n",
    "print(ford.sound, ford.color)   # color will work as this is an instance\n",
    "ford.sound=\"honk\"\n",
    "print(ford.sound)"
   ]
  },
  {
   "cell_type": "code",
   "execution_count": 8,
   "metadata": {},
   "outputs": [
    {
     "name": "stdout",
     "output_type": "stream",
     "text": [
      "My dog is from Canine species. His name is Sammi and his breed is Husky.\n"
     ]
    }
   ],
   "source": [
    "class Dog():\n",
    "    species=\"Canine\"\n",
    "    def __init__(self,name,breed):\n",
    "        self.name=name\n",
    "        self.breed=breed\n",
    "dog1=Dog(\"Sammi\",\"Husky\")\n",
    "dog2=Dog(\"Casey\",\"Chocolate Lab\")\n",
    "print(\"My dog is from {} species. His name is {} and his breed is {}.\".format(dog1.species,dog1.name,dog1.breed))"
   ]
  },
  {
   "cell_type": "code",
   "execution_count": 18,
   "metadata": {},
   "outputs": [
    {
     "name": "stdout",
     "output_type": "stream",
     "text": [
      "please type your name: Said\n",
      "Said\n"
     ]
    }
   ],
   "source": [
    "class Person():\n",
    "    name=input(\"please type your name: \")\n",
    "x=Person()\n",
    "print(x.name)\n",
    "\n"
   ]
  },
  {
   "cell_type": "code",
   "execution_count": 2,
   "metadata": {},
   "outputs": [
    {
     "name": "stdout",
     "output_type": "stream",
     "text": [
      "Bark!\n"
     ]
    }
   ],
   "source": [
    "class Dog:\n",
    "    def MakeSound(self):\n",
    "        print(\"Bark!\")\n",
    "sam=Dog()\n",
    "sam.MakeSound()"
   ]
  },
  {
   "cell_type": "code",
   "execution_count": 4,
   "metadata": {},
   "outputs": [
    {
     "name": "stdout",
     "output_type": "stream",
     "text": [
      "I am a dog.\n",
      "bark\n"
     ]
    }
   ],
   "source": [
    " #  understanding which methods are accessible via the class itself and class instances\n",
    "class Dog( ):\n",
    "    sound = \"bark\"\n",
    "    def makeSound(self):\n",
    "        print(self.sound)\n",
    "    def printInfo( ):\n",
    "        print(\"I am a dog.\")\n",
    "Dog.printInfo( )       #  able to run printInfo method because it does  not include self parameter\n",
    "# Dog.makeSound( )     would produce error, self is in reference to instances only\n",
    "sam = Dog()\n",
    "sam.makeSound()     # able to access, self can reference the instance of sam\n",
    "#sam.printInfo( )     # will produce error, instances require the self parameter to access methods"
   ]
  },
  {
   "cell_type": "code",
   "execution_count": 9,
   "metadata": {},
   "outputs": [
    {
     "name": "stdout",
     "output_type": "stream",
     "text": [
      "58\n"
     ]
    }
   ],
   "source": [
    "class Dog():\n",
    "    def ShowAge(self,age):\n",
    "        print(age)\n",
    "sam=Dog()\n",
    "sam.ShowAge(6)"
   ]
  },
  {
   "cell_type": "code",
   "execution_count": 13,
   "metadata": {},
   "outputs": [
    {
     "name": "stdout",
     "output_type": "stream",
     "text": [
      "Sammi\n"
     ]
    }
   ],
   "source": [
    "# using methods to set or return attribute values, proper programming practice\n",
    "class Dog( ):\n",
    "    name = ' '     #  would normally use init method to declare, this is for testing purposes\n",
    "    def setName(self, new_name):\n",
    "        self.name = new_name      #  declares the new value for the name attribute\n",
    "    def getName(self):\n",
    "        return self.name       # returns the value of the name attribute\n",
    "sam = Dog( )\n",
    "sam.setName(\"Sammi\")\n",
    "print( sam.getName( ) )       # prints the returned value of self.name"
   ]
  },
  {
   "cell_type": "code",
   "execution_count": 7,
   "metadata": {},
   "outputs": [
    {
     "name": "stdout",
     "output_type": "stream",
     "text": [
      "32\n"
     ]
    }
   ],
   "source": [
    "class Dog():\n",
    "    age=5\n",
    "    def HappyBirthday(self):\n",
    "        self.age+=1\n",
    "sam=Dog()\n",
    "for i in range(27):\n",
    "    sam.HappyBirthday()\n",
    "print(sam.age)\n"
   ]
  },
  {
   "cell_type": "code",
   "execution_count": 10,
   "metadata": {},
   "outputs": [
    {
     "name": "stdout",
     "output_type": "stream",
     "text": [
      "6\n",
      "Puppy!\n"
     ]
    }
   ],
   "source": [
    "class Dog():\n",
    "    age = 6 \n",
    "    def GetAge(self):\n",
    "        return self.age\n",
    "    def PrintInfo(self):\n",
    "        if self.GetAge()<10:\n",
    "            print(\"Puppy!\")\n",
    "sam=Dog()\n",
    "print(sam.GetAge())\n",
    "sam.PrintInfo()"
   ]
  },
  {
   "cell_type": "code",
   "execution_count": 53,
   "metadata": {},
   "outputs": [
    {
     "name": "stdout",
     "output_type": "stream",
     "text": [
      "52\n",
      "red\n",
      "low\n"
     ]
    }
   ],
   "source": [
    "class Duck:\n",
    "    def __init__(self,**kwargs):\n",
    "        self.variables=kwargs\n",
    "    def set_variable(self,k,v):\n",
    "        self.variables[k]=v\n",
    "    def get_variable(self,k):\n",
    "        return self.variables.get(k,None)\n",
    "def main():\n",
    "    donald = Duck(feet=52,color='red')\n",
    "    print(donald.get_variable('feet'))\n",
    "    print(donald.get_variable('color'))\n",
    "    donald.set_variable('color','blue')\n",
    "    donald.set_variable('IQ','low')\n",
    "    print(donald.get_variable('IQ'))\n",
    "    \n",
    "\n",
    "    \n",
    "if __name__ == \"__main__\": main()\n"
   ]
  },
  {
   "cell_type": "code",
   "execution_count": 2,
   "metadata": {},
   "outputs": [
    {
     "name": "stdout",
     "output_type": "stream",
     "text": [
      "('feline', 'male')\n",
      "<__main__.Animal object at 0x0000023D12B73748>\n",
      "('africa', 'female')\n"
     ]
    }
   ],
   "source": [
    "class Animal():\n",
    "    def __init__(self,species,gender):\n",
    "        self.species=species\n",
    "        self.gender=gender\n",
    "    def set_value(self,species,gender):\n",
    "        self.species=species\n",
    "        self.gender=gender\n",
    "    def get_value(self):\n",
    "        return self.species,self.gender\n",
    "lion=Animal(\"feline\",'male')\n",
    "\n",
    "print(lion.get_value())\n",
    "print(lion)\n",
    "lion.set_value(\"africa\",\"female\")\n",
    "print(lion.get_value())\n",
    "        "
   ]
  },
  {
   "cell_type": "code",
   "execution_count": 11,
   "metadata": {},
   "outputs": [
    {
     "name": "stdout",
     "output_type": "stream",
     "text": [
      "<__main__.Person object at 0x0000023D12B9B148>\n",
      "Said\n",
      "Said, You are 32 years old. \n"
     ]
    }
   ],
   "source": [
    "class Person():\n",
    "    def __init__(self,name,age=0):\n",
    "        self.name=name\n",
    "        self.age=age\n",
    "    def set_value(self,age):\n",
    "        self.age=age\n",
    "    def get_value(self):\n",
    "        return self.age\n",
    "said=Person(\"Said\")\n",
    "print(said)\n",
    "print(said.name)\n",
    "said.set_value(32)\n",
    "print(\"{}, You are {} years old. \".format(said.name,said.get_value()))"
   ]
  },
  {
   "cell_type": "markdown",
   "metadata": {},
   "source": [
    "Inheritance"
   ]
  },
  {
   "cell_type": "code",
   "execution_count": 12,
   "metadata": {},
   "outputs": [
    {
     "name": "stdout",
     "output_type": "stream",
     "text": [
      "roar\n"
     ]
    }
   ],
   "source": [
    " # inheriting a class and accessing the inherited method\n",
    "class Animal( ):\n",
    "    def makeSound(self):\n",
    "        print(\"roar\")\n",
    "class Dog(Animal):         # inheriting Animal class\n",
    "    species = \"Canine\"\n",
    "sam = Dog( )\n",
    "sam.makeSound( )     # accessible through inheritance\n",
    "lion = Animal( )\n",
    "# lion.species      not accessible, inheritance does not work backwards\n"
   ]
  },
  {
   "cell_type": "code",
   "execution_count": 13,
   "metadata": {},
   "outputs": [
    {
     "name": "stdout",
     "output_type": "stream",
     "text": [
      "Canine\n"
     ]
    }
   ],
   "source": [
    " # using the super( ) method to declare inherited attributes\n",
    "class Animal( ):\n",
    "    def __init__(self, species):\n",
    "        self.species = species\n",
    "class Dog(Animal):\n",
    "    def __init__(self, species, name):\n",
    "        self.name = name\n",
    "        super( ).__init__(species)   #  using super to declare the species attribute defined in Animal\n",
    "sam = Dog(\"Canine\", \"Sammi\")\n",
    "print(sam.species)"
   ]
  },
  {
   "cell_type": "code",
   "execution_count": 14,
   "metadata": {},
   "outputs": [
    {
     "name": "stdout",
     "output_type": "stream",
     "text": [
      "bark\n",
      "roar\n"
     ]
    }
   ],
   "source": [
    "# overriding methods defined in the superclass\n",
    "class Animal( ):\n",
    "    def makeSound(self):\n",
    "        print(\"roar\")\n",
    "class Dog(Animal):\n",
    "    def makeSound(self):\n",
    "        print(\"bark\")\n",
    "sam, lion = Dog( ), Animal( )     #  declaring multiple variables on a single line\n",
    "sam.makeSound( )     # overriding will call the makeSound method in Dog\n",
    "lion.makeSound( )    #  no overriding occurs as Animal does not inherit anything\n",
    "\n"
   ]
  },
  {
   "cell_type": "code",
   "execution_count": 23,
   "metadata": {},
   "outputs": [
    {
     "name": "stdout",
     "output_type": "stream",
     "text": [
      "9.8 Ford\n"
     ]
    }
   ],
   "source": [
    "# how to inherit multiple classes\n",
    "class Physics( ):\n",
    "    gravity = 9.8\n",
    "class Automobile( ):\n",
    "    def __init__(self, make, model, year):\n",
    "        self.make, self.model, self.year = make, model, year   \n",
    "# declaring all attributes on one line\n",
    "class Ford(Physics, Automobile):      #  able to access Physics and Automobile attributes and methods\n",
    "    def __init__(self, model, year):\n",
    "        Automobile.__init__(self,\"Ford\" ,model, year)   #  super does not work with multiple\n",
    "truck = Ford(\"F-150\", 2018)\n",
    "print(truck.gravity,truck.make)   # output both attributes\n",
    "\n"
   ]
  },
  {
   "cell_type": "code",
   "execution_count": 24,
   "metadata": {},
   "outputs": [
    {
     "name": "stdout",
     "output_type": "stream",
     "text": [
      "Hello, my name is Said and I’m on the Good guys\n",
      "Hello, my name is Sudo and I’m on the Bad guys\n"
     ]
    }
   ],
   "source": [
    "class Characters():\n",
    "    '''\n",
    "    Attributes\n",
    "    -------------------------\n",
    "    name: name of the person\n",
    "    team: member of bad or good classed team\n",
    "    height: height of the person\n",
    "    weight: weight of the person\n",
    "    '''\n",
    "    def __init__(self,name,team,height,weight):\n",
    "        self.name,self.team,self.height,self.weight=name,team,height,weight\n",
    "    def sayHello(self):\n",
    "        print(\"Hello, my name is {} and I’m on the {} guys\".format(self.name,self.team))\n",
    "class GoodPlayers(Characters):\n",
    "    def __init__(self,name,team,height,weight):\n",
    "        Characters.__init__(self,name,team,height,weight)\n",
    "class BadPlayers(Characters):\n",
    "    def __init__(self,name,team,height,weight):\n",
    "        Characters.__init__(self,name,team,height,weight)\n",
    "\n",
    "said=GoodPlayers('Said','Good',188,104)\n",
    "said.sayHello()\n",
    "sudo=BadPlayers(\"Sudo\",\"Bad\",168,79)\n",
    "sudo.sayHello()\n"
   ]
  },
  {
   "cell_type": "code",
   "execution_count": null,
   "metadata": {},
   "outputs": [],
   "source": []
  },
  {
   "cell_type": "code",
   "execution_count": null,
   "metadata": {},
   "outputs": [],
   "source": []
  }
 ],
 "metadata": {
  "kernelspec": {
   "display_name": "Python 3",
   "language": "python",
   "name": "python3"
  },
  "language_info": {
   "codemirror_mode": {
    "name": "ipython",
    "version": 3
   },
   "file_extension": ".py",
   "mimetype": "text/x-python",
   "name": "python",
   "nbconvert_exporter": "python",
   "pygments_lexer": "ipython3",
   "version": "3.7.6"
  }
 },
 "nbformat": 4,
 "nbformat_minor": 4
}
