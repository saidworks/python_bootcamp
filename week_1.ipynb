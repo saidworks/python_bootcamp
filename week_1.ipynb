{
 "cells": [
  {
   "cell_type": "markdown",
   "metadata": {},
   "source": [
    "#week_1\n"
   ]
  },
  {
   "cell_type": "code",
   "execution_count": 1,
   "metadata": {},
   "outputs": [
    {
     "name": "stdout",
     "output_type": "stream",
     "text": [
      "hello buddy!\n"
     ]
    }
   ],
   "source": [
    "#this is python\n",
    "print(\"hello buddy!\")"
   ]
  },
  {
   "cell_type": "markdown",
   "metadata": {},
   "source": [
    "#Guessing  game"
   ]
  },
  {
   "cell_type": "code",
   "execution_count": 8,
   "metadata": {},
   "outputs": [
    {
     "name": "stdout",
     "output_type": "stream",
     "text": [
      "Congras!You guessed it correctly\n",
      "It took you 5 guesses, not bad!\n"
     ]
    }
   ],
   "source": [
    "from random import randint\n",
    "from IPython.display import clear_output\n",
    "\n",
    "guessed=False\n",
    "number=randint(0,100)\n",
    "guesses=0\n",
    "\n",
    "if guesses<10:\n",
    "    while guesses<10:\n",
    "        ans=input(\"Try to guess the number I am thinking of \")\n",
    "        ans=int(ans)\n",
    "        guesses+=1\n",
    "        clear_output()\n",
    "        if ans==number:\n",
    "            print(\"Congras! You guessed it correctly\")\n",
    "            print( \"It took you \"+str(guesses)+\" guesses, not bad!\")\n",
    "            break\n",
    "        elif ans>number:\n",
    "            print(\"The number is lower than what you guessed.\")\n",
    "        elif ans < number:\n",
    "            print(\"The number is greater than what you guessed.\")\n",
    "        \n",
    "else: \n",
    "    print(\"Game over\")"
   ]
  },
  {
   "cell_type": "code",
   "execution_count": null,
   "metadata": {},
   "outputs": [],
   "source": []
  },
  {
   "cell_type": "code",
   "execution_count": null,
   "metadata": {},
   "outputs": [],
   "source": []
  }
 ],
 "metadata": {
  "kernelspec": {
   "display_name": "Python 3",
   "language": "python",
   "name": "python3"
  },
  "language_info": {
   "codemirror_mode": {
    "name": "ipython",
    "version": 3
   },
   "file_extension": ".py",
   "mimetype": "text/x-python",
   "name": "python",
   "nbconvert_exporter": "python",
   "pygments_lexer": "ipython3",
   "version": "3.7.6"
  }
 },
 "nbformat": 4,
 "nbformat_minor": 4
}
